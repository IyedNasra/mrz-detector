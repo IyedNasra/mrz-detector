{
  "cells": [
    {
      "cell_type": "code",
      "execution_count": 35,
      "metadata": {
        "id": "_8KJSvzKOl9m"
      },
      "outputs": [],
      "source": [
        "import os\n",
        "import re\n",
        "import nodejs\n",
        "import subprocess\n",
        "from datetime import datetime\n",
        "from pycountry import countries\n",
        "def ImportAll():\n",
        "    import os\n",
        "    import re\n",
        "    import nodejs\n",
        "    import subprocess\n",
        "    from datetime import datetime\n",
        "    from pycountry import countries"
      ]
    },
    {
      "cell_type": "code",
      "execution_count": 36,
      "metadata": {},
      "outputs": [],
      "source": [
        "def get_country_name(alpha_3_code: str) -> str:\n",
        "    country = countries.get(alpha_3=alpha_3_code)\n",
        "    return country.name\n",
        "\n",
        "def convert_date(date_str: str) -> str:\n",
        "    date = datetime.strptime(date_str, '%y%m%d')\n",
        "    return date.strftime('%d/%m/%Y')"
      ]
    },
    {
      "cell_type": "code",
      "execution_count": 52,
      "metadata": {},
      "outputs": [
        {
          "name": "stdout",
          "output_type": "stream",
          "text": [
            "Error: [WinError 2] The system cannot find the file specified: 'C:\\\\Users\\\\iyedn\\\\OneDrive\\\\Desktop\\\\stage\\\\mrz-detection-master\\\\mrz-detection-master'\n"
          ]
        },
        {
          "ename": "UnboundLocalError",
          "evalue": "cannot access local variable 'current_directory' where it is not associated with a value",
          "output_type": "error",
          "traceback": [
            "\u001b[1;31m---------------------------------------------------------------------------\u001b[0m",
            "\u001b[1;31mUnboundLocalError\u001b[0m                         Traceback (most recent call last)",
            "Cell \u001b[1;32mIn[52], line 26\u001b[0m\n\u001b[0;32m     24\u001b[0m         \u001b[39mprint\u001b[39m(\u001b[39m\"\u001b[39m\u001b[39mError running \u001b[39m\u001b[39m'\u001b[39m\u001b[39mnpm install\u001b[39m\u001b[39m'\u001b[39m\u001b[39m:\u001b[39m\u001b[39m\"\u001b[39m, e)\n\u001b[0;32m     25\u001b[0m     \u001b[39mreturn\u001b[39;00m current_directory\n\u001b[1;32m---> 26\u001b[0m AccessDir()\n",
            "Cell \u001b[1;32mIn[52], line 25\u001b[0m, in \u001b[0;36mAccessDir\u001b[1;34m()\u001b[0m\n\u001b[0;32m     23\u001b[0m \u001b[39mexcept\u001b[39;00m \u001b[39mException\u001b[39;00m \u001b[39mas\u001b[39;00m e:\n\u001b[0;32m     24\u001b[0m     \u001b[39mprint\u001b[39m(\u001b[39m\"\u001b[39m\u001b[39mError running \u001b[39m\u001b[39m'\u001b[39m\u001b[39mnpm install\u001b[39m\u001b[39m'\u001b[39m\u001b[39m:\u001b[39m\u001b[39m\"\u001b[39m, e)\n\u001b[1;32m---> 25\u001b[0m \u001b[39mreturn\u001b[39;00m current_directory\n",
            "\u001b[1;31mUnboundLocalError\u001b[0m: cannot access local variable 'current_directory' where it is not associated with a value"
          ]
        }
      ],
      "source": [
        "def AccessDir():\n",
        "        \n",
        "    # Get the absolute path to the 'stage' directory where the Jupyter Notebook is located\n",
        "    notebook_directory = os.path.abspath(\".\")\n",
        "\n",
        "    # Specify the name of the folder you want to access (mrz-detection-master in this case)\n",
        "    folder_name = \"mrz-detection-master\"\n",
        "\n",
        "    # Combine the paths to get the absolute path of the 'mrz-detection-master' folder\n",
        "    directory_path = os.path.join(notebook_directory, folder_name)\n",
        "\n",
        "    try:\n",
        "        # Change the Python's working directory using os.chdir()\n",
        "        os.chdir(directory_path)\n",
        "\n",
        "        # Get the current directory using Python's os.getcwd()\n",
        "        current_directory = os.getcwd()\n",
        "    except Exception as e:\n",
        "        print(\"Error:\", e)\n",
        "    try:\n",
        "        # Run \"npm install\" with 'cwd' set to the target directory using os.system()\n",
        "        os.system(f\"cd {directory_path} && npm install\")\n",
        "    except Exception as e:\n",
        "        print(\"Error running 'npm install':\", e)\n",
        "    return current_directory\n",
        "AccessDir()"
      ]
    },
    {
      "cell_type": "code",
      "execution_count": 50,
      "metadata": {},
      "outputs": [
        {
          "ename": "NameError",
          "evalue": "name 'current_directory' is not defined",
          "output_type": "error",
          "traceback": [
            "\u001b[1;31m---------------------------------------------------------------------------\u001b[0m",
            "\u001b[1;31mNameError\u001b[0m                                 Traceback (most recent call last)",
            "Cell \u001b[1;32mIn[50], line 78\u001b[0m\n\u001b[0;32m     76\u001b[0m     FinalResult \u001b[39m=\u001b[39m \u001b[39m'\u001b[39m\u001b[39m\\n\u001b[39;00m\u001b[39m'\u001b[39m\u001b[39m.\u001b[39mjoin(cleaned_list)\n\u001b[0;32m     77\u001b[0m     \u001b[39mreturn\u001b[39;00m FinalResult\n\u001b[1;32m---> 78\u001b[0m tester \u001b[39m=\u001b[39m ExtractAll()\n\u001b[0;32m     79\u001b[0m tester\n",
            "Cell \u001b[1;32mIn[50], line 17\u001b[0m, in \u001b[0;36mExtractAll\u001b[1;34m()\u001b[0m\n\u001b[0;32m     14\u001b[0m \u001b[39mtry\u001b[39;00m:\n\u001b[0;32m     15\u001b[0m     \u001b[39m# Run the Node.js command with 'cwd' set to the target directory\u001b[39;00m\n\u001b[0;32m     16\u001b[0m     node_command \u001b[39m=\u001b[39m [\u001b[39m\"\u001b[39m\u001b[39mnode\u001b[39m\u001b[39m\"\u001b[39m, \u001b[39m\"\u001b[39m\u001b[39mrun/getMrz.js\u001b[39m\u001b[39m\"\u001b[39m, \u001b[39m\"\u001b[39m\u001b[39m--file\u001b[39m\u001b[39m\"\u001b[39m, file_location]\n\u001b[1;32m---> 17\u001b[0m     result \u001b[39m=\u001b[39m subprocess\u001b[39m.\u001b[39mrun(node_command, cwd\u001b[39m=\u001b[39mcurrent_directory, check\u001b[39m=\u001b[39m\u001b[39mTrue\u001b[39;00m)\n\u001b[0;32m     18\u001b[0m     \u001b[39m# Print any error output if present\u001b[39;00m\n\u001b[0;32m     19\u001b[0m     \u001b[39mif\u001b[39;00m result\u001b[39m.\u001b[39mstderr:\n",
            "\u001b[1;31mNameError\u001b[0m: name 'current_directory' is not defined"
          ]
        }
      ],
      "source": [
        "def ExtractAll():\n",
        "    # Input the file path\n",
        "    file_path = input(\"Enter the file path: \")\n",
        "\n",
        "    # Get the current directory path\n",
        "    current_dir = os.getcwd()\n",
        "\n",
        "    # Get the relative path of the file\n",
        "    relative_path = os.path.relpath(file_path, current_dir)\n",
        "\n",
        "    # Put the relative path in a variable called file_location\n",
        "    file_location = relative_path\n",
        "\n",
        "    try:\n",
        "        # Run the Node.js command with 'cwd' set to the target directory\n",
        "        node_command = [\"node\", \"run/getMrz.js\", \"--file\", file_location]\n",
        "        result = subprocess.run(node_command, cwd=current_directory, check=True)\n",
        "        # Print any error output if present\n",
        "        if result.stderr:\n",
        "            print(\"Error output:\")\n",
        "            print(result.stderr)\n",
        "    except subprocess.CalledProcessError as e:\n",
        "        print(\"Error running the command:\", e)\n",
        "    \n",
        "    # Get the file name from the file_location variable\n",
        "    file_name = os.path.basename(file_location)\n",
        "\n",
        "    # Split the file name and extension\n",
        "    file_name, _ = os.path.splitext(file_name)\n",
        "\n",
        "    # Change the file extension to .png\n",
        "    new_file_name = file_name + \".png\"\n",
        "\n",
        "    # Access the /out/crop subdirectory\n",
        "    new_dir = os.path.join(os.path.dirname(file_location), \"out\", \"crop\")\n",
        "\n",
        "    # Join the new directory with the new file name\n",
        "    new_file_path = os.path.join(new_dir, new_file_name)\n",
        "    \n",
        "    try:\n",
        "        # Run the Node.js command with 'cwd' set to the target directory\n",
        "        node_command = [\"node\", \"run/readMrz.js\", \"--file\", new_file_path]\n",
        "        result = subprocess.run(node_command, cwd=current_directory, capture_output=True, text=True)\n",
        "    except subprocess.CalledProcessError as e:\n",
        "        print(\"Error running the command:\", e)\n",
        "\n",
        "    result_stdout = result.stdout # Updating variable name prevents potential problems with \".\"\n",
        "    \n",
        "    # Find the index of the first occurrence of 'mrz:'\n",
        "    start_mrz_index = result_stdout.find('mrz:')\n",
        "\n",
        "    if start_mrz_index != -1:\n",
        "        # Find the index of the first '[' after 'mrz:'\n",
        "        start_bracket_index = result_stdout.find('[', start_mrz_index)\n",
        "\n",
        "        # Find the index of the first ']' after 'mrz:'\n",
        "        end_bracket_index = result_stdout.find(']', start_mrz_index)\n",
        "\n",
        "        if start_bracket_index != -1 and end_bracket_index != -1:\n",
        "            # Extract the substring between the first '[' and the first ']' after 'mrz:'\n",
        "            result = result_stdout[start_bracket_index + 1: end_bracket_index]\n",
        "\n",
        "        else:\n",
        "            print(\"No matching brackets found after 'mrz:'\")\n",
        "    else:\n",
        "        print(\"No 'mrz:' found in the text.\")\n",
        "    \n",
        "    # Use regular expressions to remove the escape sequences for colors and leading/trailing whitespaces\n",
        "    cleaned_result = re.sub(r'\\x1b\\[\\d+m', '', result).strip()\n",
        "\n",
        "    # Split the cleaned result into a list using splitlines() and then split by comma\n",
        "    result_list = cleaned_result.split(',')\n",
        "\n",
        "    # Clean up the elements by removing single quotes and extra spaces, and create a new list\n",
        "    cleaned_list = [element.strip().strip(\"'\") for element in result_list]\n",
        "    FinalResult = '\\n'.join(cleaned_list)\n",
        "    return FinalResult\n",
        "tester = ExtractAll()\n",
        "tester"
      ]
    },
    {
      "cell_type": "code",
      "execution_count": null,
      "metadata": {},
      "outputs": [],
      "source": [
        "PMK0RLEE<<SUYE0N<<<<<<<<<<<<<<<<<<<<<<<<<<<<\n",
        "M708B90985KOR8507022F24041522154710V17627B84"
      ]
    },
    {
      "cell_type": "code",
      "execution_count": null,
      "metadata": {},
      "outputs": [],
      "source": [
        "\n",
        "    if (len(cleaned_list[0]) == 44) or (len(cleaned_list[0]) == 36):\n",
        "        # Extracting the first letter of the first element\n",
        "        Passport_type = cleaned_list[0][0]  # Accessing the second character\n",
        "        if cleaned_list[0][1] == '<':\n",
        "            Passport_subtype = None\n",
        "        else:\n",
        "            # Extracting the second letter of the first element\n",
        "            Passport_subtype = cleaned_list[0][1]  # Accessing the second character\n",
        "        Issuing_country = cleaned_list[0][2:5]\n",
        "        Remains = cleaned_list[0][5:] #Comntains name and surname for further processing\n",
        "        Surname = remains.split('<<', 1)[0].replace('<', ' ')\n",
        "        Name = remains.split('<<', 1)[1].strip('<').replace('<', ' ')\n",
        "        Passport_number = cleaned_list[1][0:9]\n",
        "        Check_digit1 = cleaned_list[1][9]\n",
        "        Nationality = cleaned_list[1][10:13]\n",
        "        Birth_Date = cleaned_list[1][13:19]\n",
        "        Check_digit2 = cleaned_list[1][19]\n",
        "        if cleaned_list[1][20] == '<':\n",
        "            Gender = 'unspecified'\n",
        "        else:\n",
        "            Gender = cleaned_list[1][20]\n",
        "        Expiration_date = cleaned_list[1][21:27]\n",
        "        Check_digit3 = cleaned_list[1][27]\n",
        "        if len(cleaned_list[0]) == 44:\n",
        "            Personal_number = cleaned_list[1][28:42].strip('<')\n",
        "            Check_digit4 = cleaned_list[1][42]\n",
        "            Check_digit5 = cleaned_list[1][43]\n",
        "        elif len(cleaned_list[0]) == 36:\n",
        "            Personal_number = cleaned_list[1][28:35].strip('<')\n",
        "            Check_digit4 = cleaned_list[1][35]\n",
        "    details = {Passport_type, Passport_subtype, Issuing_country, Surname, Name, Passport_number, Check_digit1, Nationality, Birth_Date, Check_digit2, }"
      ]
    },
    {
      "cell_type": "code",
      "execution_count": null,
      "metadata": {},
      "outputs": [
        {
          "name": "stdout",
          "output_type": "stream",
          "text": [
            "Type: PM\n",
            "Names: SUYE0N\n",
            "Surname: LEE\n",
            "Number: M708B9098\n",
            "personal number: 2154710V17627B\n",
            "Nationality: Korea, Republic of\n",
            "Nationality code: KOR\n",
            "Date of Birth: 02/07/1985\n",
            "Expiration Date: 15/04/2024\n",
            "Sex: F\n",
            "Country: K0R\n"
          ]
        }
      ],
      "source": [
        "if passport_subtype == None:\n",
        "    print(\"Type:\", str(passport_type))\n",
        "else:\n",
        "    print(\"Type:\", str(passport_type)+str(passport_subtype))\n",
        "print(\"Names:\", Name)\n",
        "print(\"Surname:\", Surname)\n",
        "print(\"Number:\", Passport_number)\n",
        "print(\"personal number:\", Personal_number)\n",
        "print(\"Nationality:\", get_country_name(Nationality))\n",
        "print(\"Nationality code:\", Nationality)\n",
        "print(\"Date of Birth:\", convert_date(Date))\n",
        "print(\"Expiration Date:\", convert_date(Expiration_date))\n",
        "print(\"Sex:\", Gender)\n",
        "print(\"Country:\", Issuing_country)"
      ]
    },
    {
      "cell_type": "code",
      "execution_count": 17,
      "metadata": {},
      "outputs": [],
      "source": [
        "from mrz.checker.td1 import TD1CodeChecker\n",
        "from mrz.checker.td2 import TD2CodeChecker\n",
        "from mrz.checker.td3 import TD3CodeChecker\n",
        "from mrz.checker.mrva import MRVACodeChecker\n",
        "from mrz.checker.mrvb import MRVBCodeChecker\n",
        "from mrz.checker.td1 import get_country\n"
      ]
    },
    {
      "cell_type": "code",
      "execution_count": 18,
      "metadata": {},
      "outputs": [],
      "source": [
        "def check(lines):\n",
        "     try:\n",
        "         td1_check = TD1CodeChecker(lines)\n",
        "         if bool(td1_check):\n",
        "             return \"TD1\", td1_check.fields()\n",
        "     except Exception as err:\n",
        "         pass\n",
        "        \n",
        "     try:\n",
        "         td2_check = TD2CodeChecker(lines)\n",
        "         if bool(td2_check):\n",
        "             return \"TD2\", td2_check.fields()\n",
        "     except Exception as err:\n",
        "         pass\n",
        "        \n",
        "     try:\n",
        "         td3_check = TD3CodeChecker(lines)\n",
        "         if bool(td3_check):\n",
        "             return \"TD3\", td3_check.fields()\n",
        "     except Exception as err:\n",
        "         pass\n",
        "        \n",
        "     try:\n",
        "         mrva_check = MRVACodeChecker(lines)\n",
        "         if bool(mrva_check):\n",
        "             return \"MRVA\", mrva_check.fields()\n",
        "     except Exception as err:\n",
        "         pass\n",
        "        \n",
        "     try:\n",
        "         mrvb_check = MRVBCodeChecker(lines)\n",
        "         if bool(mrvb_check):\n",
        "             return \"MRVB\", mrvb_check.fields()\n",
        "     except Exception as err:\n",
        "         pass\n",
        "        \n",
        "     return 'No valid MRZ information found'"
      ]
    },
    {
      "cell_type": "code",
      "execution_count": 19,
      "metadata": {},
      "outputs": [
        {
          "data": {
            "text/plain": [
              "('TD3',\n",
              " fields(surname='SINGLETON', name='JAMES', country='GBR', nationality='GBR', birth_date='451024', expiry_date='160101', sex='M', document_type='P', document_number='697017735', optional_data='', birth_date_hash='4', expiry_date_hash='3', document_number_hash='9', optional_data_hash='0', final_hash='8'))"
            ]
          },
          "execution_count": 19,
          "metadata": {},
          "output_type": "execute_result"
        }
      ],
      "source": [
        "check(\"P<GBRSINGLETON<<JAMES<<<<<<<<<<<<<<<<<<<<<<<\\n6970177359GBR4510244M1601013<<<<<<<<<<<<<<08\")"
      ]
    },
    {
      "cell_type": "code",
      "execution_count": 25,
      "metadata": {},
      "outputs": [],
      "source": [
        "td1_check = check(\"P<TUNSINGLETON<<JAMES<<<<<<<<<<<<<<<<<<<<<<<\\n6970177359GBR4510244M1601013<<<<<<<<<<<<<<08\")"
      ]
    },
    {
      "cell_type": "code",
      "execution_count": 26,
      "metadata": {},
      "outputs": [],
      "source": [
        "fields = td1_check[1]\n"
      ]
    },
    {
      "cell_type": "code",
      "execution_count": 27,
      "metadata": {},
      "outputs": [
        {
          "data": {
            "text/plain": [
              "fields(surname='SINGLETON', name='JAMES', country='TUN', nationality='GBR', birth_date='451024', expiry_date='160101', sex='M', document_type='P', document_number='697017735', optional_data='', birth_date_hash='4', expiry_date_hash='3', document_number_hash='9', optional_data_hash='0', final_hash='8')"
            ]
          },
          "execution_count": 27,
          "metadata": {},
          "output_type": "execute_result"
        }
      ],
      "source": [
        "fields"
      ]
    },
    {
      "cell_type": "code",
      "execution_count": 28,
      "metadata": {},
      "outputs": [
        {
          "data": {
            "text/plain": [
              "'JAMES'"
            ]
          },
          "execution_count": 28,
          "metadata": {},
          "output_type": "execute_result"
        }
      ],
      "source": [
        "fields.name"
      ]
    },
    {
      "cell_type": "code",
      "execution_count": 29,
      "metadata": {},
      "outputs": [
        {
          "data": {
            "text/plain": [
              "'Tunisia'"
            ]
          },
          "execution_count": 29,
          "metadata": {},
          "output_type": "execute_result"
        }
      ],
      "source": [
        "get_country(fields.country)"
      ]
    },
    {
      "cell_type": "code",
      "execution_count": null,
      "metadata": {},
      "outputs": [],
      "source": []
    }
  ],
  "metadata": {
    "colab": {
      "provenance": []
    },
    "kernelspec": {
      "display_name": "Python 3",
      "name": "python3"
    },
    "language_info": {
      "codemirror_mode": {
        "name": "ipython",
        "version": 3
      },
      "file_extension": ".py",
      "mimetype": "text/x-python",
      "name": "python",
      "nbconvert_exporter": "python",
      "pygments_lexer": "ipython3",
      "version": "3.11.4"
    }
  },
  "nbformat": 4,
  "nbformat_minor": 0
}
