{
 "cells": [
  {
   "cell_type": "code",
   "execution_count": 6,
   "metadata": {},
   "outputs": [],
   "source": [
    " from mrz.checker.td1 import TD1CodeChecker\n",
    " from mrz.checker.td2 import TD2CodeChecker\n",
    " from mrz.checker.td3 import TD3CodeChecker\n",
    " from mrz.checker.mrva import MRVACodeChecker\n",
    " from mrz.checker.mrvb import MRVBCodeChecker"
   ]
  },
  {
   "cell_type": "code",
   "execution_count": 7,
   "metadata": {},
   "outputs": [],
   "source": [
    "def check(lines):\n",
    "     try:\n",
    "         td1_check = TD1CodeChecker(lines)\n",
    "         if bool(td1_check):\n",
    "             return \"TD1\", td1_check.fields()\n",
    "     except Exception as err:\n",
    "         pass\n",
    "        \n",
    "     try:\n",
    "         td2_check = TD2CodeChecker(lines)\n",
    "         if bool(td2_check):\n",
    "             return \"TD2\", td2_check.fields()\n",
    "     except Exception as err:\n",
    "         pass\n",
    "        \n",
    "     try:\n",
    "         td3_check = TD3CodeChecker(lines)\n",
    "         if bool(td3_check):\n",
    "             return \"TD3\", td3_check.fields()\n",
    "     except Exception as err:\n",
    "         pass\n",
    "        \n",
    "     try:\n",
    "         mrva_check = MRVACodeChecker(lines)\n",
    "         if bool(mrva_check):\n",
    "             return \"MRVA\", mrva_check.fields()\n",
    "     except Exception as err:\n",
    "         pass\n",
    "        \n",
    "     try:\n",
    "         mrvb_check = MRVBCodeChecker(lines)\n",
    "         if bool(mrvb_check):\n",
    "             return \"MRVB\", mrvb_check.fields()\n",
    "     except Exception as err:\n",
    "         pass\n",
    "        \n",
    "     return 'No valid MRZ information found'\n"
   ]
  },
  {
   "cell_type": "code",
   "execution_count": 8,
   "metadata": {},
   "outputs": [
    {
     "data": {
      "text/plain": [
       "('TD1',\n",
       " fields(surname='OSPELT BECK', name='MARISA', country='LIE', nationality='LIE', birth_date='820512', expiry_date='190622', sex='M', document_type='ID', document_number='ID9875401', optional_data='', birth_date_hash='2', expiry_date_hash='4', document_number_hash='5', optional_data_2='', final_hash='6'))"
      ]
     },
     "execution_count": 8,
     "metadata": {},
     "output_type": "execute_result"
    }
   ],
   "source": [
    "check(\"IDLIEID98754015<<<<<<<<<<<<<<<\\n\"\"8205122M1906224LIE<<<<<<<<<<<6\\n\"\"OSPELT<BECK<<MARISA<<<<<<<<<<<\")"
   ]
  },
  {
   "cell_type": "code",
   "execution_count": null,
   "metadata": {},
   "outputs": [],
   "source": []
  }
 ],
 "metadata": {
  "kernelspec": {
   "display_name": "Python 3",
   "language": "python",
   "name": "python3"
  },
  "language_info": {
   "codemirror_mode": {
    "name": "ipython",
    "version": 3
   },
   "file_extension": ".py",
   "mimetype": "text/x-python",
   "name": "python",
   "nbconvert_exporter": "python",
   "pygments_lexer": "ipython3",
   "version": "3.11.4"
  },
  "orig_nbformat": 4
 },
 "nbformat": 4,
 "nbformat_minor": 2
}
