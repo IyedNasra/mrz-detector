{
 "cells": [
  {
   "cell_type": "code",
   "execution_count": 1,
   "metadata": {},
   "outputs": [
    {
     "name": "stdout",
     "output_type": "stream",
     "text": [
      "Collecting regula.documentreader.webclient\n",
      "  Obtaining dependency information for regula.documentreader.webclient from https://files.pythonhosted.org/packages/d6/16/1f71cfa268c4232b30a0fe38b272a534aaf1d8adce49a200d6c7c23f80b4/regula.documentreader.webclient-6.8.3-py3-none-any.whl.metadata\n",
      "  Downloading regula.documentreader.webclient-6.8.3-py3-none-any.whl.metadata (3.5 kB)\n",
      "Collecting certifi==2022.12.7 (from regula.documentreader.webclient)\n",
      "  Downloading certifi-2022.12.7-py3-none-any.whl (155 kB)\n",
      "     ---------------------------------------- 0.0/155.3 kB ? eta -:--:--\n",
      "     ----------------------- --------------- 92.2/155.3 kB 1.7 MB/s eta 0:00:01\n",
      "     -------------------------------------- 155.3/155.3 kB 2.3 MB/s eta 0:00:00\n",
      "Collecting python-dateutil==2.8.1 (from regula.documentreader.webclient)\n",
      "  Downloading python_dateutil-2.8.1-py2.py3-none-any.whl (227 kB)\n",
      "     ---------------------------------------- 0.0/227.2 kB ? eta -:--:--\n",
      "     -------------------------------------  225.3/227.2 kB 6.7 MB/s eta 0:00:01\n",
      "     -------------------------------------- 227.2/227.2 kB 4.6 MB/s eta 0:00:00\n",
      "Collecting six==1.15.0 (from regula.documentreader.webclient)\n",
      "  Downloading six-1.15.0-py2.py3-none-any.whl (10 kB)\n",
      "Collecting urllib3==1.26.5 (from regula.documentreader.webclient)\n",
      "  Downloading urllib3-1.26.5-py2.py3-none-any.whl (138 kB)\n",
      "     ---------------------------------------- 0.0/138.1 kB ? eta -:--:--\n",
      "     -------------------------------------- 138.1/138.1 kB 8.0 MB/s eta 0:00:00\n",
      "Downloading regula.documentreader.webclient-6.8.3-py3-none-any.whl (266 kB)\n",
      "   ---------------------------------------- 0.0/266.9 kB ? eta -:--:--\n",
      "   --------------------------------------- 266.9/266.9 kB 16.0 MB/s eta 0:00:00\n",
      "Installing collected packages: urllib3, six, certifi, python-dateutil, regula.documentreader.webclient\n",
      "  Attempting uninstall: six\n",
      "    Found existing installation: six 1.16.0\n",
      "    Uninstalling six-1.16.0:\n",
      "      Successfully uninstalled six-1.16.0\n",
      "  Attempting uninstall: python-dateutil\n",
      "    Found existing installation: python-dateutil 2.8.2\n",
      "    Uninstalling python-dateutil-2.8.2:\n",
      "      Successfully uninstalled python-dateutil-2.8.2\n",
      "Successfully installed certifi-2022.12.7 python-dateutil-2.8.1 regula.documentreader.webclient-6.8.3 six-1.15.0 urllib3-1.26.5\n",
      "Note: you may need to restart the kernel to use updated packages.\n"
     ]
    },
    {
     "name": "stderr",
     "output_type": "stream",
     "text": [
      "ERROR: pip's dependency resolver does not currently take into account all the packages that are installed. This behaviour is the source of the following dependency conflicts.\n",
      "jupyter-client 8.3.0 requires python-dateutil>=2.8.2, but you have python-dateutil 2.8.1 which is incompatible.\n"
     ]
    }
   ],
   "source": [
    "pip install regula.documentreader.webclient"
   ]
  },
  {
   "cell_type": "code",
   "execution_count": 2,
   "metadata": {},
   "outputs": [],
   "source": [
    "from regula.documentreader.webclient import *"
   ]
  },
  {
   "cell_type": "code",
   "execution_count": 3,
   "metadata": {},
   "outputs": [],
   "source": [
    "with open(\"mrz-detection-master\\img\\R.jpg\", \"rb\") as f:\n",
    "    input_image = f.read()"
   ]
  },
  {
   "cell_type": "code",
   "execution_count": 5,
   "metadata": {},
   "outputs": [
    {
     "ename": "MaxRetryError",
     "evalue": "HTTPConnectionPool(host='localhost', port=8080): Max retries exceeded with url: /api/process (Caused by NewConnectionError('<urllib3.connection.HTTPConnection object at 0x000001E61A1C2AD0>: Failed to establish a new connection: [WinError 10061] No connection could be made because the target machine actively refused it'))",
     "output_type": "error",
     "traceback": [
      "\u001b[1;31m---------------------------------------------------------------------------\u001b[0m",
      "\u001b[1;31mConnectionRefusedError\u001b[0m                    Traceback (most recent call last)",
      "File \u001b[1;32mc:\\Users\\iyedn\\AppData\\Local\\Programs\\Python\\Python311\\Lib\\site-packages\\urllib3\\connection.py:169\u001b[0m, in \u001b[0;36mHTTPConnection._new_conn\u001b[1;34m(self)\u001b[0m\n\u001b[0;32m    168\u001b[0m \u001b[39mtry\u001b[39;00m:\n\u001b[1;32m--> 169\u001b[0m     conn \u001b[39m=\u001b[39m connection\u001b[39m.\u001b[39;49mcreate_connection(\n\u001b[0;32m    170\u001b[0m         (\u001b[39mself\u001b[39;49m\u001b[39m.\u001b[39;49m_dns_host, \u001b[39mself\u001b[39;49m\u001b[39m.\u001b[39;49mport), \u001b[39mself\u001b[39;49m\u001b[39m.\u001b[39;49mtimeout, \u001b[39m*\u001b[39;49m\u001b[39m*\u001b[39;49mextra_kw\n\u001b[0;32m    171\u001b[0m     )\n\u001b[0;32m    173\u001b[0m \u001b[39mexcept\u001b[39;00m SocketTimeout:\n",
      "File \u001b[1;32mc:\\Users\\iyedn\\AppData\\Local\\Programs\\Python\\Python311\\Lib\\site-packages\\urllib3\\util\\connection.py:96\u001b[0m, in \u001b[0;36mcreate_connection\u001b[1;34m(address, timeout, source_address, socket_options)\u001b[0m\n\u001b[0;32m     95\u001b[0m \u001b[39mif\u001b[39;00m err \u001b[39mis\u001b[39;00m \u001b[39mnot\u001b[39;00m \u001b[39mNone\u001b[39;00m:\n\u001b[1;32m---> 96\u001b[0m     \u001b[39mraise\u001b[39;00m err\n\u001b[0;32m     98\u001b[0m \u001b[39mraise\u001b[39;00m socket\u001b[39m.\u001b[39merror(\u001b[39m\"\u001b[39m\u001b[39mgetaddrinfo returns an empty list\u001b[39m\u001b[39m\"\u001b[39m)\n",
      "File \u001b[1;32mc:\\Users\\iyedn\\AppData\\Local\\Programs\\Python\\Python311\\Lib\\site-packages\\urllib3\\util\\connection.py:86\u001b[0m, in \u001b[0;36mcreate_connection\u001b[1;34m(address, timeout, source_address, socket_options)\u001b[0m\n\u001b[0;32m     85\u001b[0m     sock\u001b[39m.\u001b[39mbind(source_address)\n\u001b[1;32m---> 86\u001b[0m sock\u001b[39m.\u001b[39mconnect(sa)\n\u001b[0;32m     87\u001b[0m \u001b[39mreturn\u001b[39;00m sock\n",
      "\u001b[1;31mConnectionRefusedError\u001b[0m: [WinError 10061] No connection could be made because the target machine actively refused it",
      "\nDuring handling of the above exception, another exception occurred:\n",
      "\u001b[1;31mNewConnectionError\u001b[0m                        Traceback (most recent call last)",
      "File \u001b[1;32mc:\\Users\\iyedn\\AppData\\Local\\Programs\\Python\\Python311\\Lib\\site-packages\\urllib3\\connectionpool.py:699\u001b[0m, in \u001b[0;36mHTTPConnectionPool.urlopen\u001b[1;34m(self, method, url, body, headers, retries, redirect, assert_same_host, timeout, pool_timeout, release_conn, chunked, body_pos, **response_kw)\u001b[0m\n\u001b[0;32m    698\u001b[0m \u001b[39m# Make the request on the httplib connection object.\u001b[39;00m\n\u001b[1;32m--> 699\u001b[0m httplib_response \u001b[39m=\u001b[39m \u001b[39mself\u001b[39;49m\u001b[39m.\u001b[39;49m_make_request(\n\u001b[0;32m    700\u001b[0m     conn,\n\u001b[0;32m    701\u001b[0m     method,\n\u001b[0;32m    702\u001b[0m     url,\n\u001b[0;32m    703\u001b[0m     timeout\u001b[39m=\u001b[39;49mtimeout_obj,\n\u001b[0;32m    704\u001b[0m     body\u001b[39m=\u001b[39;49mbody,\n\u001b[0;32m    705\u001b[0m     headers\u001b[39m=\u001b[39;49mheaders,\n\u001b[0;32m    706\u001b[0m     chunked\u001b[39m=\u001b[39;49mchunked,\n\u001b[0;32m    707\u001b[0m )\n\u001b[0;32m    709\u001b[0m \u001b[39m# If we're going to release the connection in ``finally:``, then\u001b[39;00m\n\u001b[0;32m    710\u001b[0m \u001b[39m# the response doesn't need to know about the connection. Otherwise\u001b[39;00m\n\u001b[0;32m    711\u001b[0m \u001b[39m# it will also try to release it and we'll have a double-release\u001b[39;00m\n\u001b[0;32m    712\u001b[0m \u001b[39m# mess.\u001b[39;00m\n",
      "File \u001b[1;32mc:\\Users\\iyedn\\AppData\\Local\\Programs\\Python\\Python311\\Lib\\site-packages\\urllib3\\connectionpool.py:394\u001b[0m, in \u001b[0;36mHTTPConnectionPool._make_request\u001b[1;34m(self, conn, method, url, timeout, chunked, **httplib_request_kw)\u001b[0m\n\u001b[0;32m    393\u001b[0m     \u001b[39melse\u001b[39;00m:\n\u001b[1;32m--> 394\u001b[0m         conn\u001b[39m.\u001b[39;49mrequest(method, url, \u001b[39m*\u001b[39;49m\u001b[39m*\u001b[39;49mhttplib_request_kw)\n\u001b[0;32m    396\u001b[0m \u001b[39m# We are swallowing BrokenPipeError (errno.EPIPE) since the server is\u001b[39;00m\n\u001b[0;32m    397\u001b[0m \u001b[39m# legitimately able to close the connection after sending a valid response.\u001b[39;00m\n\u001b[0;32m    398\u001b[0m \u001b[39m# With this behaviour, the received response is still readable.\u001b[39;00m\n",
      "File \u001b[1;32mc:\\Users\\iyedn\\AppData\\Local\\Programs\\Python\\Python311\\Lib\\site-packages\\urllib3\\connection.py:234\u001b[0m, in \u001b[0;36mHTTPConnection.request\u001b[1;34m(self, method, url, body, headers)\u001b[0m\n\u001b[0;32m    233\u001b[0m     headers[\u001b[39m\"\u001b[39m\u001b[39mUser-Agent\u001b[39m\u001b[39m\"\u001b[39m] \u001b[39m=\u001b[39m _get_default_user_agent()\n\u001b[1;32m--> 234\u001b[0m \u001b[39msuper\u001b[39;49m(HTTPConnection, \u001b[39mself\u001b[39;49m)\u001b[39m.\u001b[39;49mrequest(method, url, body\u001b[39m=\u001b[39;49mbody, headers\u001b[39m=\u001b[39;49mheaders)\n",
      "File \u001b[1;32mc:\\Users\\iyedn\\AppData\\Local\\Programs\\Python\\Python311\\Lib\\http\\client.py:1286\u001b[0m, in \u001b[0;36mHTTPConnection.request\u001b[1;34m(self, method, url, body, headers, encode_chunked)\u001b[0m\n\u001b[0;32m   1285\u001b[0m \u001b[39m\u001b[39m\u001b[39m\"\"\"Send a complete request to the server.\"\"\"\u001b[39;00m\n\u001b[1;32m-> 1286\u001b[0m \u001b[39mself\u001b[39;49m\u001b[39m.\u001b[39;49m_send_request(method, url, body, headers, encode_chunked)\n",
      "File \u001b[1;32mc:\\Users\\iyedn\\AppData\\Local\\Programs\\Python\\Python311\\Lib\\http\\client.py:1332\u001b[0m, in \u001b[0;36mHTTPConnection._send_request\u001b[1;34m(self, method, url, body, headers, encode_chunked)\u001b[0m\n\u001b[0;32m   1331\u001b[0m     body \u001b[39m=\u001b[39m _encode(body, \u001b[39m'\u001b[39m\u001b[39mbody\u001b[39m\u001b[39m'\u001b[39m)\n\u001b[1;32m-> 1332\u001b[0m \u001b[39mself\u001b[39;49m\u001b[39m.\u001b[39;49mendheaders(body, encode_chunked\u001b[39m=\u001b[39;49mencode_chunked)\n",
      "File \u001b[1;32mc:\\Users\\iyedn\\AppData\\Local\\Programs\\Python\\Python311\\Lib\\http\\client.py:1281\u001b[0m, in \u001b[0;36mHTTPConnection.endheaders\u001b[1;34m(self, message_body, encode_chunked)\u001b[0m\n\u001b[0;32m   1280\u001b[0m     \u001b[39mraise\u001b[39;00m CannotSendHeader()\n\u001b[1;32m-> 1281\u001b[0m \u001b[39mself\u001b[39;49m\u001b[39m.\u001b[39;49m_send_output(message_body, encode_chunked\u001b[39m=\u001b[39;49mencode_chunked)\n",
      "File \u001b[1;32mc:\\Users\\iyedn\\AppData\\Local\\Programs\\Python\\Python311\\Lib\\http\\client.py:1041\u001b[0m, in \u001b[0;36mHTTPConnection._send_output\u001b[1;34m(self, message_body, encode_chunked)\u001b[0m\n\u001b[0;32m   1040\u001b[0m \u001b[39mdel\u001b[39;00m \u001b[39mself\u001b[39m\u001b[39m.\u001b[39m_buffer[:]\n\u001b[1;32m-> 1041\u001b[0m \u001b[39mself\u001b[39;49m\u001b[39m.\u001b[39;49msend(msg)\n\u001b[0;32m   1043\u001b[0m \u001b[39mif\u001b[39;00m message_body \u001b[39mis\u001b[39;00m \u001b[39mnot\u001b[39;00m \u001b[39mNone\u001b[39;00m:\n\u001b[0;32m   1044\u001b[0m \n\u001b[0;32m   1045\u001b[0m     \u001b[39m# create a consistent interface to message_body\u001b[39;00m\n",
      "File \u001b[1;32mc:\\Users\\iyedn\\AppData\\Local\\Programs\\Python\\Python311\\Lib\\http\\client.py:979\u001b[0m, in \u001b[0;36mHTTPConnection.send\u001b[1;34m(self, data)\u001b[0m\n\u001b[0;32m    978\u001b[0m \u001b[39mif\u001b[39;00m \u001b[39mself\u001b[39m\u001b[39m.\u001b[39mauto_open:\n\u001b[1;32m--> 979\u001b[0m     \u001b[39mself\u001b[39;49m\u001b[39m.\u001b[39;49mconnect()\n\u001b[0;32m    980\u001b[0m \u001b[39melse\u001b[39;00m:\n",
      "File \u001b[1;32mc:\\Users\\iyedn\\AppData\\Local\\Programs\\Python\\Python311\\Lib\\site-packages\\urllib3\\connection.py:200\u001b[0m, in \u001b[0;36mHTTPConnection.connect\u001b[1;34m(self)\u001b[0m\n\u001b[0;32m    199\u001b[0m \u001b[39mdef\u001b[39;00m \u001b[39mconnect\u001b[39m(\u001b[39mself\u001b[39m):\n\u001b[1;32m--> 200\u001b[0m     conn \u001b[39m=\u001b[39m \u001b[39mself\u001b[39;49m\u001b[39m.\u001b[39;49m_new_conn()\n\u001b[0;32m    201\u001b[0m     \u001b[39mself\u001b[39m\u001b[39m.\u001b[39m_prepare_conn(conn)\n",
      "File \u001b[1;32mc:\\Users\\iyedn\\AppData\\Local\\Programs\\Python\\Python311\\Lib\\site-packages\\urllib3\\connection.py:181\u001b[0m, in \u001b[0;36mHTTPConnection._new_conn\u001b[1;34m(self)\u001b[0m\n\u001b[0;32m    180\u001b[0m \u001b[39mexcept\u001b[39;00m SocketError \u001b[39mas\u001b[39;00m e:\n\u001b[1;32m--> 181\u001b[0m     \u001b[39mraise\u001b[39;00m NewConnectionError(\n\u001b[0;32m    182\u001b[0m         \u001b[39mself\u001b[39m, \u001b[39m\"\u001b[39m\u001b[39mFailed to establish a new connection: \u001b[39m\u001b[39m%s\u001b[39;00m\u001b[39m\"\u001b[39m \u001b[39m%\u001b[39m e\n\u001b[0;32m    183\u001b[0m     )\n\u001b[0;32m    185\u001b[0m \u001b[39mreturn\u001b[39;00m conn\n",
      "\u001b[1;31mNewConnectionError\u001b[0m: <urllib3.connection.HTTPConnection object at 0x000001E61A1C2AD0>: Failed to establish a new connection: [WinError 10061] No connection could be made because the target machine actively refused it",
      "\nDuring handling of the above exception, another exception occurred:\n",
      "\u001b[1;31mMaxRetryError\u001b[0m                             Traceback (most recent call last)",
      "Cell \u001b[1;32mIn[5], line 7\u001b[0m\n\u001b[0;32m      2\u001b[0m params \u001b[39m=\u001b[39m ProcessParams(\n\u001b[0;32m      3\u001b[0m     scenario\u001b[39m=\u001b[39mScenario\u001b[39m.\u001b[39mFULL_PROCESS,\n\u001b[0;32m      4\u001b[0m     result_type_output\u001b[39m=\u001b[39m[Result\u001b[39m.\u001b[39mDOCUMENT_IMAGE, Result\u001b[39m.\u001b[39mSTATUS, Result\u001b[39m.\u001b[39mTEXT, Result\u001b[39m.\u001b[39mIMAGES]\n\u001b[0;32m      5\u001b[0m )\n\u001b[0;32m      6\u001b[0m request \u001b[39m=\u001b[39m RecognitionRequest(process_params\u001b[39m=\u001b[39mparams, images\u001b[39m=\u001b[39m[input_image])\n\u001b[1;32m----> 7\u001b[0m response \u001b[39m=\u001b[39m api\u001b[39m.\u001b[39;49mprocess(request)\n",
      "File \u001b[1;32mc:\\Users\\iyedn\\AppData\\Local\\Programs\\Python\\Python311\\Lib\\site-packages\\regula\\documentreader\\webclient\\ext\\api\\document_reader_api.py:52\u001b[0m, in \u001b[0;36mDocumentReaderApi.process\u001b[1;34m(self, process_request)\u001b[0m\n\u001b[0;32m     50\u001b[0m \u001b[39mdef\u001b[39;00m \u001b[39mprocess\u001b[39m(\u001b[39mself\u001b[39m, process_request: ProcessRequest) \u001b[39m-\u001b[39m\u001b[39m>\u001b[39m RecognitionResponse:\n\u001b[0;32m     51\u001b[0m     process_request\u001b[39m.\u001b[39msystem_info\u001b[39m.\u001b[39mlicense \u001b[39m=\u001b[39m \u001b[39mself\u001b[39m\u001b[39m.\u001b[39mlicense\n\u001b[1;32m---> 52\u001b[0m     \u001b[39mreturn\u001b[39;00m RecognitionResponse(\u001b[39mself\u001b[39;49m\u001b[39m.\u001b[39;49mapi_process(process_request))\n",
      "File \u001b[1;32mc:\\Users\\iyedn\\AppData\\Local\\Programs\\Python\\Python311\\Lib\\site-packages\\regula\\documentreader\\webclient\\gen\\api\\process_api.py:62\u001b[0m, in \u001b[0;36mProcessApi.api_process\u001b[1;34m(self, process_request, **kwargs)\u001b[0m\n\u001b[0;32m     34\u001b[0m \u001b[39m\u001b[39m\u001b[39m\"\"\"Process list of documents images and return extracted data  # noqa: E501\u001b[39;00m\n\u001b[0;32m     35\u001b[0m \n\u001b[0;32m     36\u001b[0m \u001b[39mThis method makes a synchronous HTTP request by default. To make an\u001b[39;00m\n\u001b[1;32m   (...)\u001b[0m\n\u001b[0;32m     59\u001b[0m \u001b[39m:rtype: ProcessResponse\u001b[39;00m\n\u001b[0;32m     60\u001b[0m \u001b[39m\"\"\"\u001b[39;00m\n\u001b[0;32m     61\u001b[0m kwargs[\u001b[39m'\u001b[39m\u001b[39m_return_http_data_only\u001b[39m\u001b[39m'\u001b[39m] \u001b[39m=\u001b[39m \u001b[39mTrue\u001b[39;00m\n\u001b[1;32m---> 62\u001b[0m \u001b[39mreturn\u001b[39;00m \u001b[39mself\u001b[39;49m\u001b[39m.\u001b[39;49mapi_process_with_http_info(process_request, \u001b[39m*\u001b[39;49m\u001b[39m*\u001b[39;49mkwargs)\n",
      "File \u001b[1;32mc:\\Users\\iyedn\\AppData\\Local\\Programs\\Python\\Python311\\Lib\\site-packages\\regula\\documentreader\\webclient\\gen\\api\\process_api.py:162\u001b[0m, in \u001b[0;36mProcessApi.api_process_with_http_info\u001b[1;34m(self, process_request, **kwargs)\u001b[0m\n\u001b[0;32m    154\u001b[0m auth_settings \u001b[39m=\u001b[39m []  \u001b[39m# noqa: E501\u001b[39;00m\n\u001b[0;32m    156\u001b[0m response_types_map \u001b[39m=\u001b[39m {\n\u001b[0;32m    157\u001b[0m     \u001b[39m200\u001b[39m: \u001b[39m\"\u001b[39m\u001b[39mProcessResponse\u001b[39m\u001b[39m\"\u001b[39m,\n\u001b[0;32m    158\u001b[0m     \u001b[39m400\u001b[39m: \u001b[39mNone\u001b[39;00m,\n\u001b[0;32m    159\u001b[0m     \u001b[39m403\u001b[39m: \u001b[39mNone\u001b[39;00m,\n\u001b[0;32m    160\u001b[0m }\n\u001b[1;32m--> 162\u001b[0m \u001b[39mreturn\u001b[39;00m \u001b[39mself\u001b[39;49m\u001b[39m.\u001b[39;49mapi_client\u001b[39m.\u001b[39;49mcall_api(\n\u001b[0;32m    163\u001b[0m     \u001b[39m'\u001b[39;49m\u001b[39m/api/process\u001b[39;49m\u001b[39m'\u001b[39;49m, \u001b[39m'\u001b[39;49m\u001b[39mPOST\u001b[39;49m\u001b[39m'\u001b[39;49m,\n\u001b[0;32m    164\u001b[0m     path_params,\n\u001b[0;32m    165\u001b[0m     query_params,\n\u001b[0;32m    166\u001b[0m     header_params,\n\u001b[0;32m    167\u001b[0m     body\u001b[39m=\u001b[39;49mbody_params,\n\u001b[0;32m    168\u001b[0m     post_params\u001b[39m=\u001b[39;49mform_params,\n\u001b[0;32m    169\u001b[0m     files\u001b[39m=\u001b[39;49mlocal_var_files,\n\u001b[0;32m    170\u001b[0m     response_types_map\u001b[39m=\u001b[39;49mresponse_types_map,\n\u001b[0;32m    171\u001b[0m     auth_settings\u001b[39m=\u001b[39;49mauth_settings,\n\u001b[0;32m    172\u001b[0m     async_req\u001b[39m=\u001b[39;49mlocal_var_params\u001b[39m.\u001b[39;49mget(\u001b[39m'\u001b[39;49m\u001b[39masync_req\u001b[39;49m\u001b[39m'\u001b[39;49m),\n\u001b[0;32m    173\u001b[0m     _return_http_data_only\u001b[39m=\u001b[39;49mlocal_var_params\u001b[39m.\u001b[39;49mget(\u001b[39m'\u001b[39;49m\u001b[39m_return_http_data_only\u001b[39;49m\u001b[39m'\u001b[39;49m),  \u001b[39m# noqa: E501\u001b[39;49;00m\n\u001b[0;32m    174\u001b[0m     _preload_content\u001b[39m=\u001b[39;49mlocal_var_params\u001b[39m.\u001b[39;49mget(\u001b[39m'\u001b[39;49m\u001b[39m_preload_content\u001b[39;49m\u001b[39m'\u001b[39;49m, \u001b[39mTrue\u001b[39;49;00m),\n\u001b[0;32m    175\u001b[0m     _request_timeout\u001b[39m=\u001b[39;49mlocal_var_params\u001b[39m.\u001b[39;49mget(\u001b[39m'\u001b[39;49m\u001b[39m_request_timeout\u001b[39;49m\u001b[39m'\u001b[39;49m),\n\u001b[0;32m    176\u001b[0m     collection_formats\u001b[39m=\u001b[39;49mcollection_formats,\n\u001b[0;32m    177\u001b[0m     _request_auth\u001b[39m=\u001b[39;49mlocal_var_params\u001b[39m.\u001b[39;49mget(\u001b[39m'\u001b[39;49m\u001b[39m_request_auth\u001b[39;49m\u001b[39m'\u001b[39;49m))\n",
      "File \u001b[1;32mc:\\Users\\iyedn\\AppData\\Local\\Programs\\Python\\Python311\\Lib\\site-packages\\regula\\documentreader\\webclient\\gen\\api_client.py:464\u001b[0m, in \u001b[0;36mApiClient.call_api\u001b[1;34m(self, resource_path, method, path_params, query_params, header_params, body, post_params, files, response_types_map, auth_settings, async_req, _return_http_data_only, collection_formats, _preload_content, _request_timeout, _host, _request_auth)\u001b[0m\n\u001b[0;32m    423\u001b[0m \u001b[39m\u001b[39m\u001b[39m\"\"\"Makes the HTTP request (synchronous) and returns deserialized data.\u001b[39;00m\n\u001b[0;32m    424\u001b[0m \n\u001b[0;32m    425\u001b[0m \u001b[39mTo make an async_req request, set the async_req parameter.\u001b[39;00m\n\u001b[1;32m   (...)\u001b[0m\n\u001b[0;32m    461\u001b[0m \u001b[39m    then the method will return the response directly.\u001b[39;00m\n\u001b[0;32m    462\u001b[0m \u001b[39m\"\"\"\u001b[39;00m\n\u001b[0;32m    463\u001b[0m \u001b[39mif\u001b[39;00m \u001b[39mnot\u001b[39;00m async_req:\n\u001b[1;32m--> 464\u001b[0m     \u001b[39mreturn\u001b[39;00m \u001b[39mself\u001b[39;49m\u001b[39m.\u001b[39;49m__call_api(resource_path, method,\n\u001b[0;32m    465\u001b[0m                            path_params, query_params, header_params,\n\u001b[0;32m    466\u001b[0m                            body, post_params, files,\n\u001b[0;32m    467\u001b[0m                            response_types_map, auth_settings,\n\u001b[0;32m    468\u001b[0m                            _return_http_data_only, collection_formats,\n\u001b[0;32m    469\u001b[0m                            _preload_content, _request_timeout, _host,\n\u001b[0;32m    470\u001b[0m                            _request_auth)\n\u001b[0;32m    472\u001b[0m \u001b[39mreturn\u001b[39;00m \u001b[39mself\u001b[39m\u001b[39m.\u001b[39mpool\u001b[39m.\u001b[39mapply_async(\u001b[39mself\u001b[39m\u001b[39m.\u001b[39m__call_api, (resource_path,\n\u001b[0;32m    473\u001b[0m                                                method, path_params,\n\u001b[0;32m    474\u001b[0m                                                query_params,\n\u001b[1;32m   (...)\u001b[0m\n\u001b[0;32m    482\u001b[0m                                                _request_timeout,\n\u001b[0;32m    483\u001b[0m                                                _host, _request_auth))\n",
      "File \u001b[1;32mc:\\Users\\iyedn\\AppData\\Local\\Programs\\Python\\Python311\\Lib\\site-packages\\regula\\documentreader\\webclient\\gen\\api_client.py:362\u001b[0m, in \u001b[0;36mApiClient.__call_api\u001b[1;34m(self, resource_path, method, path_params, query_params, header_params, body, post_params, files, response_types_map, auth_settings, _return_http_data_only, collection_formats, _preload_content, _request_timeout, _host, _request_auth)\u001b[0m\n\u001b[0;32m    358\u001b[0m     url \u001b[39m=\u001b[39m _host \u001b[39m+\u001b[39m resource_path\n\u001b[0;32m    360\u001b[0m \u001b[39mtry\u001b[39;00m:\n\u001b[0;32m    361\u001b[0m     \u001b[39m# perform request and return response\u001b[39;00m\n\u001b[1;32m--> 362\u001b[0m     response_data \u001b[39m=\u001b[39m \u001b[39mself\u001b[39;49m\u001b[39m.\u001b[39;49mrequest(\n\u001b[0;32m    363\u001b[0m         method, url, query_params\u001b[39m=\u001b[39;49mquery_params, headers\u001b[39m=\u001b[39;49mheader_params,\n\u001b[0;32m    364\u001b[0m         post_params\u001b[39m=\u001b[39;49mpost_params, body\u001b[39m=\u001b[39;49mbody,\n\u001b[0;32m    365\u001b[0m         _preload_content\u001b[39m=\u001b[39;49m_preload_content,\n\u001b[0;32m    366\u001b[0m         _request_timeout\u001b[39m=\u001b[39;49m_request_timeout)\n\u001b[0;32m    367\u001b[0m \u001b[39mexcept\u001b[39;00m ApiException \u001b[39mas\u001b[39;00m e:\n\u001b[0;32m    368\u001b[0m     e\u001b[39m.\u001b[39mbody \u001b[39m=\u001b[39m e\u001b[39m.\u001b[39mbody\u001b[39m.\u001b[39mdecode(\u001b[39m'\u001b[39m\u001b[39mutf-8\u001b[39m\u001b[39m'\u001b[39m) \u001b[39mif\u001b[39;00m six\u001b[39m.\u001b[39mPY3 \u001b[39melse\u001b[39;00m e\u001b[39m.\u001b[39mbody\n",
      "File \u001b[1;32mc:\\Users\\iyedn\\AppData\\Local\\Programs\\Python\\Python311\\Lib\\site-packages\\regula\\documentreader\\webclient\\gen\\api_client.py:508\u001b[0m, in \u001b[0;36mApiClient.request\u001b[1;34m(self, method, url, query_params, headers, post_params, body, _preload_content, _request_timeout)\u001b[0m\n\u001b[0;32m    502\u001b[0m     \u001b[39mreturn\u001b[39;00m \u001b[39mself\u001b[39m\u001b[39m.\u001b[39mrest_client\u001b[39m.\u001b[39mOPTIONS(url,\n\u001b[0;32m    503\u001b[0m                                     query_params\u001b[39m=\u001b[39mquery_params,\n\u001b[0;32m    504\u001b[0m                                     headers\u001b[39m=\u001b[39mheaders,\n\u001b[0;32m    505\u001b[0m                                     _preload_content\u001b[39m=\u001b[39m_preload_content,\n\u001b[0;32m    506\u001b[0m                                     _request_timeout\u001b[39m=\u001b[39m_request_timeout)\n\u001b[0;32m    507\u001b[0m \u001b[39melif\u001b[39;00m method \u001b[39m==\u001b[39m \u001b[39m\"\u001b[39m\u001b[39mPOST\u001b[39m\u001b[39m\"\u001b[39m:\n\u001b[1;32m--> 508\u001b[0m     \u001b[39mreturn\u001b[39;00m \u001b[39mself\u001b[39;49m\u001b[39m.\u001b[39;49mrest_client\u001b[39m.\u001b[39;49mPOST(url,\n\u001b[0;32m    509\u001b[0m                                  query_params\u001b[39m=\u001b[39;49mquery_params,\n\u001b[0;32m    510\u001b[0m                                  headers\u001b[39m=\u001b[39;49mheaders,\n\u001b[0;32m    511\u001b[0m                                  post_params\u001b[39m=\u001b[39;49mpost_params,\n\u001b[0;32m    512\u001b[0m                                  _preload_content\u001b[39m=\u001b[39;49m_preload_content,\n\u001b[0;32m    513\u001b[0m                                  _request_timeout\u001b[39m=\u001b[39;49m_request_timeout,\n\u001b[0;32m    514\u001b[0m                                  body\u001b[39m=\u001b[39;49mbody)\n\u001b[0;32m    515\u001b[0m \u001b[39melif\u001b[39;00m method \u001b[39m==\u001b[39m \u001b[39m\"\u001b[39m\u001b[39mPUT\u001b[39m\u001b[39m\"\u001b[39m:\n\u001b[0;32m    516\u001b[0m     \u001b[39mreturn\u001b[39;00m \u001b[39mself\u001b[39m\u001b[39m.\u001b[39mrest_client\u001b[39m.\u001b[39mPUT(url,\n\u001b[0;32m    517\u001b[0m                                 query_params\u001b[39m=\u001b[39mquery_params,\n\u001b[0;32m    518\u001b[0m                                 headers\u001b[39m=\u001b[39mheaders,\n\u001b[1;32m   (...)\u001b[0m\n\u001b[0;32m    521\u001b[0m                                 _request_timeout\u001b[39m=\u001b[39m_request_timeout,\n\u001b[0;32m    522\u001b[0m                                 body\u001b[39m=\u001b[39mbody)\n",
      "File \u001b[1;32mc:\\Users\\iyedn\\AppData\\Local\\Programs\\Python\\Python311\\Lib\\site-packages\\regula\\documentreader\\webclient\\gen\\rest.py:266\u001b[0m, in \u001b[0;36mRESTClientObject.POST\u001b[1;34m(self, url, headers, query_params, post_params, body, _preload_content, _request_timeout)\u001b[0m\n\u001b[0;32m    264\u001b[0m \u001b[39mdef\u001b[39;00m \u001b[39mPOST\u001b[39m(\u001b[39mself\u001b[39m, url, headers\u001b[39m=\u001b[39m\u001b[39mNone\u001b[39;00m, query_params\u001b[39m=\u001b[39m\u001b[39mNone\u001b[39;00m, post_params\u001b[39m=\u001b[39m\u001b[39mNone\u001b[39;00m,\n\u001b[0;32m    265\u001b[0m          body\u001b[39m=\u001b[39m\u001b[39mNone\u001b[39;00m, _preload_content\u001b[39m=\u001b[39m\u001b[39mTrue\u001b[39;00m, _request_timeout\u001b[39m=\u001b[39m\u001b[39mNone\u001b[39;00m):\n\u001b[1;32m--> 266\u001b[0m     \u001b[39mreturn\u001b[39;00m \u001b[39mself\u001b[39;49m\u001b[39m.\u001b[39;49mrequest(\u001b[39m\"\u001b[39;49m\u001b[39mPOST\u001b[39;49m\u001b[39m\"\u001b[39;49m, url,\n\u001b[0;32m    267\u001b[0m                         headers\u001b[39m=\u001b[39;49mheaders,\n\u001b[0;32m    268\u001b[0m                         query_params\u001b[39m=\u001b[39;49mquery_params,\n\u001b[0;32m    269\u001b[0m                         post_params\u001b[39m=\u001b[39;49mpost_params,\n\u001b[0;32m    270\u001b[0m                         _preload_content\u001b[39m=\u001b[39;49m_preload_content,\n\u001b[0;32m    271\u001b[0m                         _request_timeout\u001b[39m=\u001b[39;49m_request_timeout,\n\u001b[0;32m    272\u001b[0m                         body\u001b[39m=\u001b[39;49mbody)\n",
      "File \u001b[1;32mc:\\Users\\iyedn\\AppData\\Local\\Programs\\Python\\Python311\\Lib\\site-packages\\regula\\documentreader\\webclient\\gen\\rest.py:152\u001b[0m, in \u001b[0;36mRESTClientObject.request\u001b[1;34m(self, method, url, query_params, headers, body, post_params, _preload_content, _request_timeout)\u001b[0m\n\u001b[0;32m    150\u001b[0m     \u001b[39mif\u001b[39;00m body \u001b[39mis\u001b[39;00m \u001b[39mnot\u001b[39;00m \u001b[39mNone\u001b[39;00m:\n\u001b[0;32m    151\u001b[0m         request_body \u001b[39m=\u001b[39m json\u001b[39m.\u001b[39mdumps(body)\n\u001b[1;32m--> 152\u001b[0m     r \u001b[39m=\u001b[39m \u001b[39mself\u001b[39;49m\u001b[39m.\u001b[39;49mpool_manager\u001b[39m.\u001b[39;49mrequest(\n\u001b[0;32m    153\u001b[0m         method, url,\n\u001b[0;32m    154\u001b[0m         body\u001b[39m=\u001b[39;49mrequest_body,\n\u001b[0;32m    155\u001b[0m         preload_content\u001b[39m=\u001b[39;49m_preload_content,\n\u001b[0;32m    156\u001b[0m         timeout\u001b[39m=\u001b[39;49mtimeout,\n\u001b[0;32m    157\u001b[0m         headers\u001b[39m=\u001b[39;49mheaders)\n\u001b[0;32m    158\u001b[0m \u001b[39melif\u001b[39;00m headers[\u001b[39m'\u001b[39m\u001b[39mContent-Type\u001b[39m\u001b[39m'\u001b[39m] \u001b[39m==\u001b[39m \u001b[39m'\u001b[39m\u001b[39mapplication/x-www-form-urlencoded\u001b[39m\u001b[39m'\u001b[39m:  \u001b[39m# noqa: E501\u001b[39;00m\n\u001b[0;32m    159\u001b[0m     r \u001b[39m=\u001b[39m \u001b[39mself\u001b[39m\u001b[39m.\u001b[39mpool_manager\u001b[39m.\u001b[39mrequest(\n\u001b[0;32m    160\u001b[0m         method, url,\n\u001b[0;32m    161\u001b[0m         fields\u001b[39m=\u001b[39mpost_params,\n\u001b[1;32m   (...)\u001b[0m\n\u001b[0;32m    164\u001b[0m         timeout\u001b[39m=\u001b[39mtimeout,\n\u001b[0;32m    165\u001b[0m         headers\u001b[39m=\u001b[39mheaders)\n",
      "File \u001b[1;32mc:\\Users\\iyedn\\AppData\\Local\\Programs\\Python\\Python311\\Lib\\site-packages\\urllib3\\request.py:78\u001b[0m, in \u001b[0;36mRequestMethods.request\u001b[1;34m(self, method, url, fields, headers, **urlopen_kw)\u001b[0m\n\u001b[0;32m     74\u001b[0m     \u001b[39mreturn\u001b[39;00m \u001b[39mself\u001b[39m\u001b[39m.\u001b[39mrequest_encode_url(\n\u001b[0;32m     75\u001b[0m         method, url, fields\u001b[39m=\u001b[39mfields, headers\u001b[39m=\u001b[39mheaders, \u001b[39m*\u001b[39m\u001b[39m*\u001b[39murlopen_kw\n\u001b[0;32m     76\u001b[0m     )\n\u001b[0;32m     77\u001b[0m \u001b[39melse\u001b[39;00m:\n\u001b[1;32m---> 78\u001b[0m     \u001b[39mreturn\u001b[39;00m \u001b[39mself\u001b[39;49m\u001b[39m.\u001b[39;49mrequest_encode_body(\n\u001b[0;32m     79\u001b[0m         method, url, fields\u001b[39m=\u001b[39;49mfields, headers\u001b[39m=\u001b[39;49mheaders, \u001b[39m*\u001b[39;49m\u001b[39m*\u001b[39;49murlopen_kw\n\u001b[0;32m     80\u001b[0m     )\n",
      "File \u001b[1;32mc:\\Users\\iyedn\\AppData\\Local\\Programs\\Python\\Python311\\Lib\\site-packages\\urllib3\\request.py:170\u001b[0m, in \u001b[0;36mRequestMethods.request_encode_body\u001b[1;34m(self, method, url, fields, headers, encode_multipart, multipart_boundary, **urlopen_kw)\u001b[0m\n\u001b[0;32m    167\u001b[0m extra_kw[\u001b[39m\"\u001b[39m\u001b[39mheaders\u001b[39m\u001b[39m\"\u001b[39m]\u001b[39m.\u001b[39mupdate(headers)\n\u001b[0;32m    168\u001b[0m extra_kw\u001b[39m.\u001b[39mupdate(urlopen_kw)\n\u001b[1;32m--> 170\u001b[0m \u001b[39mreturn\u001b[39;00m \u001b[39mself\u001b[39;49m\u001b[39m.\u001b[39;49murlopen(method, url, \u001b[39m*\u001b[39;49m\u001b[39m*\u001b[39;49mextra_kw)\n",
      "File \u001b[1;32mc:\\Users\\iyedn\\AppData\\Local\\Programs\\Python\\Python311\\Lib\\site-packages\\urllib3\\poolmanager.py:375\u001b[0m, in \u001b[0;36mPoolManager.urlopen\u001b[1;34m(self, method, url, redirect, **kw)\u001b[0m\n\u001b[0;32m    373\u001b[0m     response \u001b[39m=\u001b[39m conn\u001b[39m.\u001b[39murlopen(method, url, \u001b[39m*\u001b[39m\u001b[39m*\u001b[39mkw)\n\u001b[0;32m    374\u001b[0m \u001b[39melse\u001b[39;00m:\n\u001b[1;32m--> 375\u001b[0m     response \u001b[39m=\u001b[39m conn\u001b[39m.\u001b[39;49murlopen(method, u\u001b[39m.\u001b[39;49mrequest_uri, \u001b[39m*\u001b[39;49m\u001b[39m*\u001b[39;49mkw)\n\u001b[0;32m    377\u001b[0m redirect_location \u001b[39m=\u001b[39m redirect \u001b[39mand\u001b[39;00m response\u001b[39m.\u001b[39mget_redirect_location()\n\u001b[0;32m    378\u001b[0m \u001b[39mif\u001b[39;00m \u001b[39mnot\u001b[39;00m redirect_location:\n",
      "File \u001b[1;32mc:\\Users\\iyedn\\AppData\\Local\\Programs\\Python\\Python311\\Lib\\site-packages\\urllib3\\connectionpool.py:783\u001b[0m, in \u001b[0;36mHTTPConnectionPool.urlopen\u001b[1;34m(self, method, url, body, headers, retries, redirect, assert_same_host, timeout, pool_timeout, release_conn, chunked, body_pos, **response_kw)\u001b[0m\n\u001b[0;32m    778\u001b[0m \u001b[39mif\u001b[39;00m \u001b[39mnot\u001b[39;00m conn:\n\u001b[0;32m    779\u001b[0m     \u001b[39m# Try again\u001b[39;00m\n\u001b[0;32m    780\u001b[0m     log\u001b[39m.\u001b[39mwarning(\n\u001b[0;32m    781\u001b[0m         \u001b[39m\"\u001b[39m\u001b[39mRetrying (\u001b[39m\u001b[39m%r\u001b[39;00m\u001b[39m) after connection broken by \u001b[39m\u001b[39m'\u001b[39m\u001b[39m%r\u001b[39;00m\u001b[39m'\u001b[39m\u001b[39m: \u001b[39m\u001b[39m%s\u001b[39;00m\u001b[39m\"\u001b[39m, retries, err, url\n\u001b[0;32m    782\u001b[0m     )\n\u001b[1;32m--> 783\u001b[0m     \u001b[39mreturn\u001b[39;00m \u001b[39mself\u001b[39;49m\u001b[39m.\u001b[39;49murlopen(\n\u001b[0;32m    784\u001b[0m         method,\n\u001b[0;32m    785\u001b[0m         url,\n\u001b[0;32m    786\u001b[0m         body,\n\u001b[0;32m    787\u001b[0m         headers,\n\u001b[0;32m    788\u001b[0m         retries,\n\u001b[0;32m    789\u001b[0m         redirect,\n\u001b[0;32m    790\u001b[0m         assert_same_host,\n\u001b[0;32m    791\u001b[0m         timeout\u001b[39m=\u001b[39;49mtimeout,\n\u001b[0;32m    792\u001b[0m         pool_timeout\u001b[39m=\u001b[39;49mpool_timeout,\n\u001b[0;32m    793\u001b[0m         release_conn\u001b[39m=\u001b[39;49mrelease_conn,\n\u001b[0;32m    794\u001b[0m         chunked\u001b[39m=\u001b[39;49mchunked,\n\u001b[0;32m    795\u001b[0m         body_pos\u001b[39m=\u001b[39;49mbody_pos,\n\u001b[0;32m    796\u001b[0m         \u001b[39m*\u001b[39;49m\u001b[39m*\u001b[39;49mresponse_kw\n\u001b[0;32m    797\u001b[0m     )\n\u001b[0;32m    799\u001b[0m \u001b[39m# Handle redirect?\u001b[39;00m\n\u001b[0;32m    800\u001b[0m redirect_location \u001b[39m=\u001b[39m redirect \u001b[39mand\u001b[39;00m response\u001b[39m.\u001b[39mget_redirect_location()\n",
      "File \u001b[1;32mc:\\Users\\iyedn\\AppData\\Local\\Programs\\Python\\Python311\\Lib\\site-packages\\urllib3\\connectionpool.py:783\u001b[0m, in \u001b[0;36mHTTPConnectionPool.urlopen\u001b[1;34m(self, method, url, body, headers, retries, redirect, assert_same_host, timeout, pool_timeout, release_conn, chunked, body_pos, **response_kw)\u001b[0m\n\u001b[0;32m    778\u001b[0m \u001b[39mif\u001b[39;00m \u001b[39mnot\u001b[39;00m conn:\n\u001b[0;32m    779\u001b[0m     \u001b[39m# Try again\u001b[39;00m\n\u001b[0;32m    780\u001b[0m     log\u001b[39m.\u001b[39mwarning(\n\u001b[0;32m    781\u001b[0m         \u001b[39m\"\u001b[39m\u001b[39mRetrying (\u001b[39m\u001b[39m%r\u001b[39;00m\u001b[39m) after connection broken by \u001b[39m\u001b[39m'\u001b[39m\u001b[39m%r\u001b[39;00m\u001b[39m'\u001b[39m\u001b[39m: \u001b[39m\u001b[39m%s\u001b[39;00m\u001b[39m\"\u001b[39m, retries, err, url\n\u001b[0;32m    782\u001b[0m     )\n\u001b[1;32m--> 783\u001b[0m     \u001b[39mreturn\u001b[39;00m \u001b[39mself\u001b[39;49m\u001b[39m.\u001b[39;49murlopen(\n\u001b[0;32m    784\u001b[0m         method,\n\u001b[0;32m    785\u001b[0m         url,\n\u001b[0;32m    786\u001b[0m         body,\n\u001b[0;32m    787\u001b[0m         headers,\n\u001b[0;32m    788\u001b[0m         retries,\n\u001b[0;32m    789\u001b[0m         redirect,\n\u001b[0;32m    790\u001b[0m         assert_same_host,\n\u001b[0;32m    791\u001b[0m         timeout\u001b[39m=\u001b[39;49mtimeout,\n\u001b[0;32m    792\u001b[0m         pool_timeout\u001b[39m=\u001b[39;49mpool_timeout,\n\u001b[0;32m    793\u001b[0m         release_conn\u001b[39m=\u001b[39;49mrelease_conn,\n\u001b[0;32m    794\u001b[0m         chunked\u001b[39m=\u001b[39;49mchunked,\n\u001b[0;32m    795\u001b[0m         body_pos\u001b[39m=\u001b[39;49mbody_pos,\n\u001b[0;32m    796\u001b[0m         \u001b[39m*\u001b[39;49m\u001b[39m*\u001b[39;49mresponse_kw\n\u001b[0;32m    797\u001b[0m     )\n\u001b[0;32m    799\u001b[0m \u001b[39m# Handle redirect?\u001b[39;00m\n\u001b[0;32m    800\u001b[0m redirect_location \u001b[39m=\u001b[39m redirect \u001b[39mand\u001b[39;00m response\u001b[39m.\u001b[39mget_redirect_location()\n",
      "File \u001b[1;32mc:\\Users\\iyedn\\AppData\\Local\\Programs\\Python\\Python311\\Lib\\site-packages\\urllib3\\connectionpool.py:783\u001b[0m, in \u001b[0;36mHTTPConnectionPool.urlopen\u001b[1;34m(self, method, url, body, headers, retries, redirect, assert_same_host, timeout, pool_timeout, release_conn, chunked, body_pos, **response_kw)\u001b[0m\n\u001b[0;32m    778\u001b[0m \u001b[39mif\u001b[39;00m \u001b[39mnot\u001b[39;00m conn:\n\u001b[0;32m    779\u001b[0m     \u001b[39m# Try again\u001b[39;00m\n\u001b[0;32m    780\u001b[0m     log\u001b[39m.\u001b[39mwarning(\n\u001b[0;32m    781\u001b[0m         \u001b[39m\"\u001b[39m\u001b[39mRetrying (\u001b[39m\u001b[39m%r\u001b[39;00m\u001b[39m) after connection broken by \u001b[39m\u001b[39m'\u001b[39m\u001b[39m%r\u001b[39;00m\u001b[39m'\u001b[39m\u001b[39m: \u001b[39m\u001b[39m%s\u001b[39;00m\u001b[39m\"\u001b[39m, retries, err, url\n\u001b[0;32m    782\u001b[0m     )\n\u001b[1;32m--> 783\u001b[0m     \u001b[39mreturn\u001b[39;00m \u001b[39mself\u001b[39;49m\u001b[39m.\u001b[39;49murlopen(\n\u001b[0;32m    784\u001b[0m         method,\n\u001b[0;32m    785\u001b[0m         url,\n\u001b[0;32m    786\u001b[0m         body,\n\u001b[0;32m    787\u001b[0m         headers,\n\u001b[0;32m    788\u001b[0m         retries,\n\u001b[0;32m    789\u001b[0m         redirect,\n\u001b[0;32m    790\u001b[0m         assert_same_host,\n\u001b[0;32m    791\u001b[0m         timeout\u001b[39m=\u001b[39;49mtimeout,\n\u001b[0;32m    792\u001b[0m         pool_timeout\u001b[39m=\u001b[39;49mpool_timeout,\n\u001b[0;32m    793\u001b[0m         release_conn\u001b[39m=\u001b[39;49mrelease_conn,\n\u001b[0;32m    794\u001b[0m         chunked\u001b[39m=\u001b[39;49mchunked,\n\u001b[0;32m    795\u001b[0m         body_pos\u001b[39m=\u001b[39;49mbody_pos,\n\u001b[0;32m    796\u001b[0m         \u001b[39m*\u001b[39;49m\u001b[39m*\u001b[39;49mresponse_kw\n\u001b[0;32m    797\u001b[0m     )\n\u001b[0;32m    799\u001b[0m \u001b[39m# Handle redirect?\u001b[39;00m\n\u001b[0;32m    800\u001b[0m redirect_location \u001b[39m=\u001b[39m redirect \u001b[39mand\u001b[39;00m response\u001b[39m.\u001b[39mget_redirect_location()\n",
      "File \u001b[1;32mc:\\Users\\iyedn\\AppData\\Local\\Programs\\Python\\Python311\\Lib\\site-packages\\urllib3\\connectionpool.py:755\u001b[0m, in \u001b[0;36mHTTPConnectionPool.urlopen\u001b[1;34m(self, method, url, body, headers, retries, redirect, assert_same_host, timeout, pool_timeout, release_conn, chunked, body_pos, **response_kw)\u001b[0m\n\u001b[0;32m    752\u001b[0m \u001b[39melif\u001b[39;00m \u001b[39misinstance\u001b[39m(e, (SocketError, HTTPException)):\n\u001b[0;32m    753\u001b[0m     e \u001b[39m=\u001b[39m ProtocolError(\u001b[39m\"\u001b[39m\u001b[39mConnection aborted.\u001b[39m\u001b[39m\"\u001b[39m, e)\n\u001b[1;32m--> 755\u001b[0m retries \u001b[39m=\u001b[39m retries\u001b[39m.\u001b[39;49mincrement(\n\u001b[0;32m    756\u001b[0m     method, url, error\u001b[39m=\u001b[39;49me, _pool\u001b[39m=\u001b[39;49m\u001b[39mself\u001b[39;49m, _stacktrace\u001b[39m=\u001b[39;49msys\u001b[39m.\u001b[39;49mexc_info()[\u001b[39m2\u001b[39;49m]\n\u001b[0;32m    757\u001b[0m )\n\u001b[0;32m    758\u001b[0m retries\u001b[39m.\u001b[39msleep()\n\u001b[0;32m    760\u001b[0m \u001b[39m# Keep track of the error for the retry warning.\u001b[39;00m\n",
      "File \u001b[1;32mc:\\Users\\iyedn\\AppData\\Local\\Programs\\Python\\Python311\\Lib\\site-packages\\urllib3\\util\\retry.py:574\u001b[0m, in \u001b[0;36mRetry.increment\u001b[1;34m(self, method, url, response, error, _pool, _stacktrace)\u001b[0m\n\u001b[0;32m    563\u001b[0m new_retry \u001b[39m=\u001b[39m \u001b[39mself\u001b[39m\u001b[39m.\u001b[39mnew(\n\u001b[0;32m    564\u001b[0m     total\u001b[39m=\u001b[39mtotal,\n\u001b[0;32m    565\u001b[0m     connect\u001b[39m=\u001b[39mconnect,\n\u001b[1;32m   (...)\u001b[0m\n\u001b[0;32m    570\u001b[0m     history\u001b[39m=\u001b[39mhistory,\n\u001b[0;32m    571\u001b[0m )\n\u001b[0;32m    573\u001b[0m \u001b[39mif\u001b[39;00m new_retry\u001b[39m.\u001b[39mis_exhausted():\n\u001b[1;32m--> 574\u001b[0m     \u001b[39mraise\u001b[39;00m MaxRetryError(_pool, url, error \u001b[39mor\u001b[39;00m ResponseError(cause))\n\u001b[0;32m    576\u001b[0m log\u001b[39m.\u001b[39mdebug(\u001b[39m\"\u001b[39m\u001b[39mIncremented Retry for (url=\u001b[39m\u001b[39m'\u001b[39m\u001b[39m%s\u001b[39;00m\u001b[39m'\u001b[39m\u001b[39m): \u001b[39m\u001b[39m%r\u001b[39;00m\u001b[39m\"\u001b[39m, url, new_retry)\n\u001b[0;32m    578\u001b[0m \u001b[39mreturn\u001b[39;00m new_retry\n",
      "\u001b[1;31mMaxRetryError\u001b[0m: HTTPConnectionPool(host='localhost', port=8080): Max retries exceeded with url: /api/process (Caused by NewConnectionError('<urllib3.connection.HTTPConnection object at 0x000001E61A1C2AD0>: Failed to establish a new connection: [WinError 10061] No connection could be made because the target machine actively refused it'))"
     ]
    }
   ],
   "source": [
    "with DocumentReaderApi(host='http://localhost:8080') as api:\n",
    "    params = ProcessParams(\n",
    "        scenario=Scenario.FULL_PROCESS,\n",
    "        result_type_output=[Result.DOCUMENT_IMAGE, Result.STATUS, Result.TEXT, Result.IMAGES]\n",
    "    )\n",
    "    request = RecognitionRequest(process_params=params, images=[input_image])\n",
    "    response = api.process(request)"
   ]
  },
  {
   "cell_type": "code",
   "execution_count": 8,
   "metadata": {},
   "outputs": [
    {
     "ename": "ImportError",
     "evalue": "cannot import name 'is_td1' from 'mrz.base.string_checkers' (c:\\Users\\iyedn\\AppData\\Local\\Programs\\Python\\Python311\\Lib\\site-packages\\mrz\\base\\string_checkers.py)",
     "output_type": "error",
     "traceback": [
      "\u001b[1;31m---------------------------------------------------------------------------\u001b[0m",
      "\u001b[1;31mImportError\u001b[0m                               Traceback (most recent call last)",
      "Cell \u001b[1;32mIn[8], line 1\u001b[0m\n\u001b[1;32m----> 1\u001b[0m \u001b[39mfrom\u001b[39;00m \u001b[39mmrz\u001b[39;00m\u001b[39m.\u001b[39;00m\u001b[39mbase\u001b[39;00m\u001b[39m.\u001b[39;00m\u001b[39mstring_checkers\u001b[39;00m \u001b[39mimport\u001b[39;00m is_td1, is_td2, is_td3\n\u001b[0;32m      3\u001b[0m \u001b[39mdef\u001b[39;00m \u001b[39mget_mrz_type\u001b[39m(mrz_string: \u001b[39mstr\u001b[39m):\n\u001b[0;32m      4\u001b[0m     \u001b[39mif\u001b[39;00m is_td1(mrz_string):\n",
      "\u001b[1;31mImportError\u001b[0m: cannot import name 'is_td1' from 'mrz.base.string_checkers' (c:\\Users\\iyedn\\AppData\\Local\\Programs\\Python\\Python311\\Lib\\site-packages\\mrz\\base\\string_checkers.py)"
     ]
    }
   ],
   "source": [
    "from mrz.base.string_checkers import is_td1, is_td2, is_td3\n",
    "\n",
    "def get_mrz_type(mrz_string: str):\n",
    "    if is_td1(mrz_string):\n",
    "        return 'TD1'\n",
    "    elif is_td2(mrz_string):\n",
    "        return 'TD2'\n",
    "    elif is_td3(mrz_string):\n",
    "        return 'TD3'\n",
    "    else:\n",
    "        return 'Unknown'\n",
    "\n",
    "# Example usage\n",
    "mrz_string = 'P<GBRSMITH<<JOHN<<<<<<<<<<<<<<<<<<<<<<<<<<<<<\\n1234567890GBR9001018M2301018<<<<<<<<<<<<<<08'\n",
    "mrz_type = get_mrz_type(mrz_string)\n",
    "print(mrz_type)"
   ]
  },
  {
   "cell_type": "code",
   "execution_count": 9,
   "metadata": {},
   "outputs": [
    {
     "ename": "LengthError",
     "evalue": "('String was not recognized as a valid TD1. It should have 92 characters', '89')",
     "output_type": "error",
     "traceback": [
      "\u001b[1;31m---------------------------------------------------------------------------\u001b[0m",
      "\u001b[1;31mLengthError\u001b[0m                               Traceback (most recent call last)",
      "Cell \u001b[1;32mIn[9], line 17\u001b[0m\n\u001b[0;32m     15\u001b[0m \u001b[39m# Example usage\u001b[39;00m\n\u001b[0;32m     16\u001b[0m mrz_string \u001b[39m=\u001b[39m \u001b[39m'\u001b[39m\u001b[39mP<GBRSMITH<<JOHN<<<<<<<<<<<<<<<<<<<<<<<<<<<<<\u001b[39m\u001b[39m\\n\u001b[39;00m\u001b[39m1234567890GBR9001018M2301018<<<<<<<<<<<<<<08\u001b[39m\u001b[39m'\u001b[39m\n\u001b[1;32m---> 17\u001b[0m mrz_type \u001b[39m=\u001b[39m get_mrz_type(mrz_string)\n\u001b[0;32m     18\u001b[0m \u001b[39mprint\u001b[39m(mrz_type)\n",
      "Cell \u001b[1;32mIn[9], line 6\u001b[0m, in \u001b[0;36mget_mrz_type\u001b[1;34m(mrz_string)\u001b[0m\n\u001b[0;32m      5\u001b[0m \u001b[39mdef\u001b[39;00m \u001b[39mget_mrz_type\u001b[39m(mrz_string: \u001b[39mstr\u001b[39m):\n\u001b[1;32m----> 6\u001b[0m     \u001b[39mif\u001b[39;00m TD1CodeChecker(mrz_string)\u001b[39m.\u001b[39mis_valid():\n\u001b[0;32m      7\u001b[0m         \u001b[39mreturn\u001b[39;00m \u001b[39m'\u001b[39m\u001b[39mTD1\u001b[39m\u001b[39m'\u001b[39m\n\u001b[0;32m      8\u001b[0m     \u001b[39melif\u001b[39;00m TD2CodeChecker(mrz_string)\u001b[39m.\u001b[39mis_valid():\n",
      "File \u001b[1;32mc:\\Users\\iyedn\\AppData\\Local\\Programs\\Python\\Python311\\Lib\\site-packages\\mrz\\checker\\td1.py:76\u001b[0m, in \u001b[0;36mTD1CodeChecker.__init__\u001b[1;34m(self, mrz_code, check_expiry, compute_warnings, precheck)\u001b[0m\n\u001b[0;32m     75\u001b[0m \u001b[39mdef\u001b[39;00m \u001b[39m__init__\u001b[39m(\u001b[39mself\u001b[39m, mrz_code: \u001b[39mstr\u001b[39m, check_expiry\u001b[39m=\u001b[39m\u001b[39mFalse\u001b[39;00m, compute_warnings\u001b[39m=\u001b[39m\u001b[39mFalse\u001b[39;00m, precheck\u001b[39m=\u001b[39m\u001b[39mTrue\u001b[39;00m):\n\u001b[1;32m---> 76\u001b[0m     precheck \u001b[39mand\u001b[39;00m check\u001b[39m.\u001b[39;49mprecheck(\u001b[39m\"\u001b[39;49m\u001b[39mTD1\u001b[39;49m\u001b[39m\"\u001b[39;49m, mrz_code, \u001b[39m92\u001b[39;49m)\n\u001b[0;32m     77\u001b[0m     lines \u001b[39m=\u001b[39m mrz_code\u001b[39m.\u001b[39msplitlines()\n\u001b[0;32m     78\u001b[0m     \u001b[39mself\u001b[39m\u001b[39m.\u001b[39m_document_type \u001b[39m=\u001b[39m lines[\u001b[39m0\u001b[39m][\u001b[39m0\u001b[39m: \u001b[39m2\u001b[39m]\n",
      "File \u001b[1;32mc:\\Users\\iyedn\\AppData\\Local\\Programs\\Python\\Python311\\Lib\\site-packages\\mrz\\base\\string_checkers.py:101\u001b[0m, in \u001b[0;36mprecheck\u001b[1;34m(document_description, string, length)\u001b[0m\n\u001b[0;32m     99\u001b[0m s \u001b[39m=\u001b[39m string\u001b[39m.\u001b[39mreplace(\u001b[39m\"\u001b[39m\u001b[39m\\n\u001b[39;00m\u001b[39m\"\u001b[39m, \u001b[39m\"\u001b[39m\u001b[39m\"\u001b[39m)\n\u001b[0;32m    100\u001b[0m \u001b[39mif\u001b[39;00m check_string(_check_upper(string)) \u001b[39mand\u001b[39;00m \u001b[39mlen\u001b[39m(string) \u001b[39m!=\u001b[39m length:\n\u001b[1;32m--> 101\u001b[0m     \u001b[39mraise\u001b[39;00m LengthError(cause\u001b[39m=\u001b[39m\u001b[39mlen\u001b[39m(s), document\u001b[39m=\u001b[39mdocument_description, length\u001b[39m=\u001b[39mlength)\n\u001b[0;32m    102\u001b[0m \u001b[39mif\u001b[39;00m \u001b[39mnot\u001b[39;00m is_printable(string, \u001b[39m\"\u001b[39m\u001b[39m\\n\u001b[39;00m\u001b[39m\"\u001b[39m):\n\u001b[0;32m    103\u001b[0m     \u001b[39mraise\u001b[39;00m FieldError(\u001b[39m\"\u001b[39m\u001b[39m%s\u001b[39;00m\u001b[39m contains invalid characters\u001b[39m\u001b[39m\"\u001b[39m \u001b[39m%\u001b[39m document_description, s)\n",
      "\u001b[1;31mLengthError\u001b[0m: ('String was not recognized as a valid TD1. It should have 92 characters', '89')"
     ]
    }
   ],
   "source": [
    "from mrz.checker.td1 import TD1CodeChecker\n",
    "from mrz.checker.td2 import TD2CodeChecker\n",
    "from mrz.checker.td3 import TD3CodeChecker\n",
    "\n",
    "def get_mrz_type(mrz_string: str):\n",
    "    if TD1CodeChecker(mrz_string).is_valid():\n",
    "        return 'TD1'\n",
    "    elif TD2CodeChecker(mrz_string).is_valid():\n",
    "        return 'TD2'\n",
    "    elif TD3CodeChecker(mrz_string).is_valid():\n",
    "        return 'TD3'\n",
    "    else:\n",
    "        return 'Unknown'\n",
    "\n",
    "# Example usage\n",
    "mrz_string = 'P<GBRSMITH<<JOHN<<<<<<<<<<<<<<<<<<<<<<<<<<<<<\\n1234567890GBR9001018M2301018<<<<<<<<<<<<<<08'\n",
    "mrz_type = get_mrz_type(mrz_string)\n",
    "print(mrz_type)\n"
   ]
  },
  {
   "cell_type": "code",
   "execution_count": 15,
   "metadata": {},
   "outputs": [
    {
     "name": "stdout",
     "output_type": "stream",
     "text": [
      "Unknown\n"
     ]
    }
   ],
   "source": [
    "from mrz.checker.td1 import TD1CodeChecker\n",
    "from mrz.checker.td2 import TD2CodeChecker\n",
    "from mrz.checker.td3 import TD3CodeChecker\n",
    "\n",
    "def get_mrz_type(mrz_string: str):\n",
    "    try:\n",
    "        if TD1CodeChecker(mrz_string).is_valid():\n",
    "            return 'TD1'\n",
    "    except:\n",
    "        pass\n",
    "    try:\n",
    "        if TD2CodeChecker(mrz_string).is_valid():\n",
    "            return 'TD2'\n",
    "    except:\n",
    "        pass\n",
    "    try:\n",
    "        if TD3CodeChecker(mrz_string).is_valid():\n",
    "            return 'TD3'\n",
    "    except:\n",
    "        pass\n",
    "    return 'Unknown'\n",
    "\n",
    "# Example usage\n",
    "mrz_string = \"P<GBRFAWCETT<<JOANNE<<<<<<<<<<<<<<<<<<<<<<<<0024166964GBR3410082F1601013<<<<<<<<<<<<<<04\"\n",
    "mrz_type = get_mrz_type(mrz_string)\n",
    "print(mrz_type)\n"
   ]
  },
  {
   "cell_type": "code",
   "execution_count": null,
   "metadata": {},
   "outputs": [],
   "source": []
  }
 ],
 "metadata": {
  "kernelspec": {
   "display_name": "Python 3",
   "language": "python",
   "name": "python3"
  },
  "language_info": {
   "codemirror_mode": {
    "name": "ipython",
    "version": 3
   },
   "file_extension": ".py",
   "mimetype": "text/x-python",
   "name": "python",
   "nbconvert_exporter": "python",
   "pygments_lexer": "ipython3",
   "version": "3.11.4"
  },
  "orig_nbformat": 4
 },
 "nbformat": 4,
 "nbformat_minor": 2
}
