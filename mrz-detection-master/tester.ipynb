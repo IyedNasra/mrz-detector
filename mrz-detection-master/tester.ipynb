{
 "cells": [
  {
   "cell_type": "code",
   "execution_count": 44,
   "metadata": {},
   "outputs": [],
   "source": [
    "from parsemrz import parse\n",
    "from imagetomrz import ExtractData\n",
    "import subprocess\n",
    "import logging\n",
    "import re\n",
    "import json\n",
    "import mrz\n",
    "from mrz.checker.td3 import TD3CodeChecker\n",
    "from mrz.checker.td2 import TD2CodeChecker\n",
    "from mrz.checker.td1 import TD1CodeChecker"
   ]
  },
  {
   "cell_type": "code",
   "execution_count": 41,
   "metadata": {},
   "outputs": [
    {
     "data": {
      "text/plain": [
       "['L<<00S<SANTOS<<<<<<<<<<<<<<<<<<<<<<<', 'WG08909176M18090600444B74<N01<1356']"
      ]
     },
     "execution_count": 41,
     "metadata": {},
     "output_type": "execute_result"
    }
   ],
   "source": [
    "data = ExtractData('C:\\\\Users\\\\iyedn\\\\Downloads\\\\isabel-dos-santos-fake-passportjpg_49603.jpg')\n",
    "data"
   ]
  },
  {
   "cell_type": "code",
   "execution_count": 45,
   "metadata": {},
   "outputs": [
    {
     "ename": "AttributeError",
     "evalue": "'list' object has no attribute 'replace'",
     "output_type": "error",
     "traceback": [
      "\u001b[1;31m---------------------------------------------------------------------------\u001b[0m",
      "\u001b[1;31mAttributeError\u001b[0m                            Traceback (most recent call last)",
      "Cell \u001b[1;32mIn[45], line 1\u001b[0m\n\u001b[1;32m----> 1\u001b[0m TD3CodeChecker(data)\n",
      "File \u001b[1;32mc:\\Users\\iyedn\\AppData\\Local\\Programs\\Python\\Python311\\Lib\\site-packages\\mrz\\checker\\td3.py:85\u001b[0m, in \u001b[0;36mTD3CodeChecker.__init__\u001b[1;34m(self, mrz_code, check_expiry, compute_warnings)\u001b[0m\n\u001b[0;32m     84\u001b[0m \u001b[39mdef\u001b[39;00m \u001b[39m__init__\u001b[39m(\u001b[39mself\u001b[39m, mrz_code: \u001b[39mstr\u001b[39m, check_expiry\u001b[39m=\u001b[39m\u001b[39mFalse\u001b[39;00m, compute_warnings\u001b[39m=\u001b[39m\u001b[39mFalse\u001b[39;00m):\n\u001b[1;32m---> 85\u001b[0m     check\u001b[39m.\u001b[39;49mprecheck(\u001b[39m\"\u001b[39;49m\u001b[39mTD3\u001b[39;49m\u001b[39m\"\u001b[39;49m, mrz_code, \u001b[39m89\u001b[39;49m)\n\u001b[0;32m     86\u001b[0m     lines \u001b[39m=\u001b[39m mrz_code\u001b[39m.\u001b[39msplitlines()\n\u001b[0;32m     87\u001b[0m     \u001b[39mself\u001b[39m\u001b[39m.\u001b[39m_document_type \u001b[39m=\u001b[39m lines[\u001b[39m0\u001b[39m][\u001b[39m0\u001b[39m: \u001b[39m2\u001b[39m]\n",
      "File \u001b[1;32mc:\\Users\\iyedn\\AppData\\Local\\Programs\\Python\\Python311\\Lib\\site-packages\\mrz\\base\\string_checkers.py:99\u001b[0m, in \u001b[0;36mprecheck\u001b[1;34m(document_description, string, length)\u001b[0m\n\u001b[0;32m     98\u001b[0m \u001b[39mdef\u001b[39;00m \u001b[39mprecheck\u001b[39m(document_description: \u001b[39mstr\u001b[39m, string: \u001b[39mstr\u001b[39m, length: \u001b[39mint\u001b[39m):\n\u001b[1;32m---> 99\u001b[0m     s \u001b[39m=\u001b[39m string\u001b[39m.\u001b[39;49mreplace(\u001b[39m\"\u001b[39m\u001b[39m\\n\u001b[39;00m\u001b[39m\"\u001b[39m, \u001b[39m\"\u001b[39m\u001b[39m\"\u001b[39m)\n\u001b[0;32m    100\u001b[0m     \u001b[39mif\u001b[39;00m check_string(_check_upper(string)) \u001b[39mand\u001b[39;00m \u001b[39mlen\u001b[39m(string) \u001b[39m!=\u001b[39m length:\n\u001b[0;32m    101\u001b[0m         \u001b[39mraise\u001b[39;00m LengthError(cause\u001b[39m=\u001b[39m\u001b[39mlen\u001b[39m(s), document\u001b[39m=\u001b[39mdocument_description, length\u001b[39m=\u001b[39mlength)\n",
      "\u001b[1;31mAttributeError\u001b[0m: 'list' object has no attribute 'replace'"
     ]
    }
   ],
   "source": [
    "TD3CodeChecker(data)"
   ]
  },
  {
   "cell_type": "code",
   "execution_count": 5,
   "metadata": {},
   "outputs": [],
   "source": [
    "def parse(x):\n",
    "    js_content = f\"\"\"\n",
    "const parse = require('mrz').parse;\n",
    "\n",
    "let mrz = {x};\n",
    "\n",
    "var result = parse(mrz);\n",
    "console.log(result);\n",
    "\"\"\"\n",
    "\n",
    "    with open('../mrz-parser/index.js', 'w') as js_file:\n",
    "        js_file.write(js_content)\n",
    "\n",
    "    try:\n",
    "        # Run the Node.js command with 'cwd' set to the target directory\n",
    "        node_command = [\"node\", \"../mrz-parser\", \"index\"]\n",
    "        result = subprocess.run(node_command, check=True, text=True, capture_output=True)\n",
    "        # Print any error output if present\n",
    "        if result.stderr:\n",
    "            logging.exception(\"Error output:\")\n",
    "            logging.exception(result.stderr)\n",
    "        else:\n",
    "            full =result.stdout\n",
    "    except subprocess.CalledProcessError as e:\n",
    "        logging.exception(\"Error running the command:\", e)\n",
    "    # Find the index of \"fields:\"\n",
    "    fields_index = full.find(\"fields:\")\n",
    "\n",
    "    if fields_index != -1:\n",
    "        # Find the index of the first \"{\" after \"fields:\"\n",
    "        opening_brace_index = full.find(\"{\", fields_index)\n",
    "\n",
    "        # Find the index of the matching \"}\" for the first \"{\" after \"fields:\"\n",
    "        closing_brace_index = opening_brace_index + 1\n",
    "        brace_count = 1\n",
    "        while brace_count > 0:\n",
    "            if full[closing_brace_index] == \"{\":\n",
    "                brace_count += 1\n",
    "            elif full[closing_brace_index] == \"}\":\n",
    "                brace_count -= 1\n",
    "            closing_brace_index += 1\n",
    "\n",
    "        extracted_text = full[opening_brace_index:closing_brace_index]\n",
    "        extracted_text = re.sub(r'\\x1b\\[\\d+m', '', extracted_text).strip()\n",
    "        extracted_text = extracted_text.replace(\"  \",\"\")\n",
    "         \n",
    "        pattern = re.compile(r'(\\w+)\\s*:\\s*(\"[^\"]*\"|\\S+)')\n",
    "        extracted_text = pattern.sub(r'\"\\1\":\\2', extracted_text)\n",
    "        extracted_text = extracted_text.replace(\"'\",\"\\\"\")\n",
    "        print(extracted_text)\n",
    "    else:\n",
    "        print(\"Couldn't find 'fields:'\")"
   ]
  },
  {
   "cell_type": "code",
   "execution_count": 33,
   "metadata": {},
   "outputs": [],
   "source": [
    "tester = ['P<GBRTHATCHER<<ROSS<<<<<<<<<<<<<<<<<<<<<<<<<','2841464979TUN4904265M1601013<<<<<<<<<<<<<<04']"
   ]
  },
  {
   "cell_type": "code",
   "execution_count": 57,
   "metadata": {},
   "outputs": [],
   "source": [
    "def cleanup(s: str) -> tuple:\n",
    "    # Remove escape characters\n",
    "    s = re.sub(r'\\x1b\\[[0-9;]*m', '', s)\n",
    "    # Remove leading and trailing whitespaces\n",
    "    s = s.strip()\n",
    "    # Split the string into two parts\n",
    "    parts = s.split(\",\\n\")\n",
    "    # Remove quotes and whitespaces from the first part\n",
    "    part1 = parts[0].replace(\"'\", \"\").strip()\n",
    "    # Remove quotes and whitespaces from the second part\n",
    "    part2 = parts[1].replace(\"'\", \"\").strip()\n",
    "    # Return the two parts as a tuple\n",
    "    return (part1, part2)"
   ]
  },
  {
   "cell_type": "code",
   "execution_count": 58,
   "metadata": {},
   "outputs": [
    {
     "data": {
      "text/plain": [
       "('PAISLAEVARSDOTTIR<<THURIDUR<OESP<<<<<<<<<<<<',\n",
       " 'A3536444<7ISL1212123<3103108121212<1239<<<68')"
      ]
     },
     "execution_count": 58,
     "metadata": {},
     "output_type": "execute_result"
    }
   ],
   "source": [
    "import os\n",
    "import re\n",
    "import subprocess\n",
    "\n",
    "def ExtractData(filepath):\n",
    "    base_workdir = os.getcwd()\n",
    "    try:\n",
    "        # Run the Node.js command with 'cwd' set to the target directory\n",
    "        node_command = [\"node\", \"run/getMrz.js\", \"--file\", filepath]\n",
    "        result = subprocess.run(node_command, cwd=base_workdir, check=True)\n",
    "        # Print any error output if present\n",
    "        if result.stderr:\n",
    "            logging.exception(\"Error output:\")\n",
    "            logging.exception(result.stderr)\n",
    "    except subprocess.CalledProcessError as e:\n",
    "        logging.exception(\"Error running the command:\", e)\n",
    "    \n",
    "    # Get the file name from the file_location variable\n",
    "    file_name = os.path.basename(filepath)\n",
    "\n",
    "    # Split the file name and extension\n",
    "    file_name, _ = os.path.splitext(file_name)\n",
    "\n",
    "    # Change the file extension to .png\n",
    "    file_name = file_name + \".png\"\n",
    "\n",
    "    # Access the /out/crop subdirectory\n",
    "    new_dir = os.path.join(os.path.dirname(filepath), \"out\", \"crop\")\n",
    "\n",
    "    # Join the new directory with the new file name\n",
    "    filepath = os.path.join(new_dir, file_name)\n",
    "    \n",
    "    try:\n",
    "        # Run the Node.js command with 'cwd' set to the target directory\n",
    "        node_command = [\"node\", \"run/readMrz.js\", \"--file\", filepath]\n",
    "        result = subprocess.run(node_command, cwd=base_workdir, capture_output=True, text=True)\n",
    "    except subprocess.CalledProcessError as e:\n",
    "        print(\"Error running the command:\", e)\n",
    "\n",
    "    result_stdout = result.stdout # Updating variable name prevents potential problems with \".\"\n",
    "    \n",
    "    # Find the index of the first occurrence of 'mrz:'\n",
    "    start_mrz_index = result_stdout.find('mrz:')\n",
    "\n",
    "    if start_mrz_index != -1:\n",
    "        # Find the index of the first '[' after 'mrz:'\n",
    "        start_bracket_index = result_stdout.find('[', start_mrz_index)\n",
    "\n",
    "        # Find the index of the first ']' after 'mrz:'\n",
    "        end_bracket_index = result_stdout.find(']', start_mrz_index)\n",
    "\n",
    "        if start_bracket_index != -1 and end_bracket_index != -1:\n",
    "            # Extract the substring between the first '[' and the first ']' after 'mrz:'\n",
    "            result = result_stdout[start_bracket_index + 1: end_bracket_index]\n",
    "\n",
    "        else:\n",
    "            print(\"No matching brackets found after 'mrz:'\")\n",
    "    else:\n",
    "        print(\"No 'mrz:' found in the text.\")\n",
    "    result = cleanup(result)\n",
    "    return result\n",
    "st = ExtractData('C:\\\\Users\\\\iyedn\\\\OneDrive\\\\Desktop\\\\stage\\\\mrz-detection-master\\\\img\\\\210316052514-iceland-gender-neutral-passport.jpg')\n",
    "st"
   ]
  },
  {
   "cell_type": "code",
   "execution_count": 56,
   "metadata": {},
   "outputs": [
    {
     "data": {
      "text/plain": [
       "('PAISLAEVARSDOTTIR<<THURIDUR<OESP<<<<<<<<<<<<',\n",
       " 'A3536444<7ISL1212123<3103108121212<1239<<<68')"
      ]
     },
     "execution_count": 56,
     "metadata": {},
     "output_type": "execute_result"
    }
   ],
   "source": [
    "mrz."
   ]
  },
  {
   "cell_type": "code",
   "execution_count": 62,
   "metadata": {},
   "outputs": [],
   "source": [
    "x = (int(input()))\n",
    "k = (int(input()))"
   ]
  },
  {
   "cell_type": "code",
   "execution_count": 37,
   "metadata": {},
   "outputs": [],
   "source": [
    "import re\n",
    "\n",
    "def parse_td1_mrz(mrz_string: str):\n",
    "    # Define the regular expression pattern for common TD documents\n",
    "    pattern1 = r'([A|C|I][A-Z0-9<]{1})([A-Z]{3})([A-Z0-9<]{9})([0-9]{1})([A-Z0-9<]{15})\\n([0-9]{6})([0-9]{1})([M|F|X|<]{1})([0-9]{6})([0-9]{1})([A-Z]{3})([A-Z0-9<]{11})([0-9]{1})\\n([A-Z0-9<]{30})'\n",
    "    pattern2 = r'([A|C|I][A-Z0-9<]{1})([A-Z]{3})([A-Z0-9<]{31})\\n([A-Z0-9<]{9})([0-9]{1})([A-Z]{3})([0-9]{6})([0-9]{1})([M|F|X|<]{1})([0-9]{6})([0-9]{1})([A-Z0-9<]{7})([0-9]{1})'\n",
    "    pattern3 = r'(P[A-Z0-9<]{1})([A-Z]{3})([A-Z0-9<]{39})\\n([A-Z0-9<]{9})([0-9]{1})([A-Z0-9<]{3})([0-9]{6})([0-9]{1})([M|F|X|<]{1})([0-9]{6})([0-9]{1})([A-Z0-9<]{14})([0-9]{1})([A-Z0-9<]{14})'\n",
    "    # Search for the pattern in the MRZ string\n",
    "    match1 = re.match(pattern1, mrz_string)\n",
    "    match2 = re.match(pattern2, mrz_string)\n",
    "    match3 = re.match(pattern3, mrz_string)\n",
    "    # Check if a match was found\n",
    "    if match1:\n",
    "        # Extract the matched groups\n",
    "        groups = match1.groups()\n",
    "        \n",
    "        # Parse the groups\n",
    "        result = {\n",
    "            'document_type': groups[0].rstrip(\"<\"),\n",
    "            'issuing_country': groups[1],\n",
    "            'document_number': groups[2],\n",
    "            'check_digit_1': groups[3],\n",
    "            'optional_data_1': groups[4],\n",
    "            'date_of_birth': groups[5],\n",
    "            'check_digit_2': groups[6],\n",
    "            'sex': groups[7],\n",
    "            'date_of_expiry': groups[8],\n",
    "            'check_digit_3': groups[9],\n",
    "            'nationality': groups[10],\n",
    "            'optional_data_2': groups[11],\n",
    "            'check_digit_4': groups[12],\n",
    "            'names': groups[13]\n",
    "        }\n",
    "        \n",
    "        return result\n",
    "    elif match2:\n",
    "        # Extract the matched groups\n",
    "        groups = match2.groups()\n",
    "        \n",
    "        # Parse the groups\n",
    "        result = {\n",
    "            'document_type': groups[0].rstrip(\"<\"),\n",
    "            'issuing_country': groups[1],\n",
    "            'primary_identifier': groups[2],\n",
    "            'document_number': groups[3],\n",
    "            'check_digit_1': groups[4],\n",
    "            'nationality': groups[5],\n",
    "            'date_of_birth': groups[6],\n",
    "            'check_digit_2': groups[7],\n",
    "            'sex': groups[8],\n",
    "            'date_of_expiry': groups[9],\n",
    "            'check_digit_3': groups[10],\n",
    "            'optional_data': groups[11],\n",
    "            'overall_check_digit': groups[12]\n",
    "        }\n",
    "        \n",
    "        return result\n",
    "    elif match3:\n",
    "        # Extract the matched groups\n",
    "        groups = match3.groups()\n",
    "        \n",
    "        # Parse the groups\n",
    "        result = {\n",
    "            'document_type': groups[0].rstrip(\"<\"),\n",
    "            'issuing_country': groups[1],\n",
    "            'primary_identifier': groups[2],\n",
    "            'document_number': groups[3],\n",
    "            'check_digit_1': groups[4],\n",
    "            'nationality': groups[5],\n",
    "            'date_of_birth': groups[6],\n",
    "            'check_digit_2': groups[7],\n",
    "            'sex': groups[8],\n",
    "            'date_of_expiry': groups[9],\n",
    "            'check_digit_3': groups[10],\n",
    "            'optional_data': groups[11],\n",
    "            'overall_check_digit': groups[12]\n",
    "        }\n",
    "        \n",
    "        return result\n",
    "    else:\n",
    "        # No match was found\n",
    "        return None\n",
    "\n",
    "# Example usage\n"
   ]
  },
  {
   "cell_type": "code",
   "execution_count": 36,
   "metadata": {},
   "outputs": [],
   "source": [
    "def parse_td1_mrz(mrz_string: str):\n",
    "    # Define the regular expression pattern for a TD1 document\n",
    "    pattern = r'([A|C|I][A-Z0-9<]{1})([A-Z]{3})([A-Z0-9<]{9})([0-9]{1})([A-Z0-9<]{15})\\n([0-9]{6})([0-9]{1})([M|F|X|<]{1})([0-9]{6})([0-9]{1})([A-Z]{3})([A-Z0-9<]{11})([0-9]{1})\\n([A-Z0-9<]{30})'\n",
    "    \n",
    "    # Search for the pattern in the MRZ string\n",
    "    match = re.search(pattern, mrz_string)\n",
    "    \n",
    "    # Check if a match was found\n",
    "    if match:\n",
    "        # Extract the matched groups\n",
    "        groups = match.groups()\n",
    "        \n",
    "        # Parse the groups\n",
    "        result = {\n",
    "            'document_type': groups[0],\n",
    "            'issuing_country': groups[1],\n",
    "            'document_number': groups[2],\n",
    "            'check_digit_1': groups[3],\n",
    "            'optional_data_1': groups[4],\n",
    "            'date_of_birth': groups[5],\n",
    "            'check_digit_2': groups[6],\n",
    "            'sex': groups[7],\n",
    "            'date_of_expiry': groups[8],\n",
    "            'check_digit_3': groups[9],\n",
    "            'nationality': groups[10],\n",
    "            'optional_data_2': groups[11],\n",
    "            'check_digit_4': groups[12],\n",
    "            'names': groups[13]\n",
    "        }\n",
    "        \n",
    "        return result\n",
    "    else:\n",
    "        # No match was found\n",
    "        return None"
   ]
  },
  {
   "cell_type": "code",
   "execution_count": 14,
   "metadata": {},
   "outputs": [],
   "source": [
    "def parse_td2_mrz(mrz_string: str):\n",
    "    # Define the regular expression pattern for a TD2 document\n",
    "    pattern = r'([A|C|I][A-Z0-9<]{1})([A-Z]{3})([A-Z0-9<]{31})\\n([A-Z0-9<]{9})([0-9]{1})([A-Z]{3})([0-9]{6})([0-9]{1})([M|F|X|<]{1})([0-9]{6})([0-9]{1})([A-Z0-9<]{7})([0-9]{1})'\n",
    "    \n",
    "    # Search for the pattern in the MRZ string\n",
    "    match = re.search(pattern, mrz_string)\n",
    "    \n",
    "    # Check if a match was found\n",
    "    if match:\n",
    "        # Extract the matched groups\n",
    "        groups = match.groups()\n",
    "        \n",
    "        # Parse the groups\n",
    "        result = {\n",
    "            'document_type': groups[0],\n",
    "            'issuing_country': groups[1],\n",
    "            'primary_identifier': groups[2],\n",
    "            'document_number': groups[3],\n",
    "            'check_digit_1': groups[4],\n",
    "            'nationality': groups[5],\n",
    "            'date_of_birth': groups[6],\n",
    "            'check_digit_2': groups[7],\n",
    "            'sex': groups[8],\n",
    "            'date_of_expiry': groups[9],\n",
    "            'check_digit_3': groups[10],\n",
    "            'optional_data': groups[11],\n",
    "            'overall_check_digit': groups[12]\n",
    "        }\n",
    "        \n",
    "        return result\n",
    "    else:\n",
    "        # No match was found\n",
    "        return None"
   ]
  },
  {
   "cell_type": "code",
   "execution_count": 19,
   "metadata": {},
   "outputs": [],
   "source": [
    "def parse_td3_mrz(mrz_string: str):\n",
    "    # Define the regular expression pattern for a TD3 document\n",
    "    pattern = r'(P[A-Z0-9<]{1})([A-Z]{3})([A-Z0-9<]{39})\\n([A-Z0-9<]{9})([0-9]{1})([A-Z]{3})([0-9]{6})([0-9]{1})([M|F|X|<]{1})([0-9]{6})([0-9]{1})([A-Z0-9<]{14})([0-9]{1})([0-9]{1})'\n",
    "    # Search for the pattern in the MRZ string\n",
    "    match = re.search(pattern, mrz_string)\n",
    "    \n",
    "    # Check if a match was found\n",
    "    if match:\n",
    "        # Extract the matched groups\n",
    "        groups = match.groups()\n",
    "        \n",
    "        # Parse the groups\n",
    "        result = {\n",
    "            'document_type': groups[0],\n",
    "            'issuing_country': groups[1],\n",
    "            'primary_identifier': groups[2],\n",
    "            'document_number': groups[3],\n",
    "            'check_digit_1': groups[4],\n",
    "            'nationality': groups[5],\n",
    "            'date_of_birth': groups[6],\n",
    "            'check_digit_2': groups[7],\n",
    "            'sex': groups[8],\n",
    "            'date_of_expiry': groups[9],\n",
    "            'check_digit_3': groups[10],\n",
    "            'optional_data': groups[11],\n",
    "            'overall_check_digit': groups[12]\n",
    "        }\n",
    "        \n",
    "        return result\n",
    "    else:\n",
    "        # No match was found\n",
    "        return None"
   ]
  },
  {
   "cell_type": "code",
   "execution_count": 40,
   "metadata": {},
   "outputs": [
    {
     "name": "stdout",
     "output_type": "stream",
     "text": [
      "None\n"
     ]
    }
   ],
   "source": [
    "mrz_string = 'P<GBRBLUNDBY<<SPENCER<<<<<<<<<<<<<<<<<<<<<<<\\n''0335189562GBR8306199<1601013<<<<<<<<<<<<<<02'\n",
    "result = parse_td2_mrz(mrz_string)\n",
    "print(result)"
   ]
  },
  {
   "cell_type": "code",
   "execution_count": 41,
   "metadata": {},
   "outputs": [
    {
     "name": "stdout",
     "output_type": "stream",
     "text": [
      "None\n"
     ]
    }
   ],
   "source": [
    "import re\n",
    "\n",
    "def parse_td3_mrz(mrz_string: str):\n",
    "    # Define the regular expression pattern for a TD3 document\n",
    "    pattern = r'^(P[A-Z0-9<]{0,1})([A-Z]{3})([A-Z0-9<]{39})\\n([A-Z0-9<]{9})([0-9]{1})([A-Z0-9<]{3})([0-9]{6})([0-9]{1})([M|F|X|<]{1})([0-9]{6})([0-9]{1})([A-Z0-9<]{14})([0-9]{1})([A-Z0-9<]{14})'\n",
    "    \n",
    "    # Search for the pattern in the MRZ string\n",
    "    match = re.search(pattern, mrz_string, flags=re.IGNORECASE)\n",
    "    \n",
    "    # Check if a match was found\n",
    "    if match:\n",
    "        # Extract the matched groups\n",
    "        groups = match.groups()\n",
    "        \n",
    "        # Parse the groups\n",
    "        result = {\n",
    "            'document_type': groups[0],\n",
    "            'issuing_country': groups[1],\n",
    "            'primary_identifier': groups[2],\n",
    "            'document_number': groups[3],\n",
    "            'check_digit_1': groups[4],\n",
    "            'nationality': groups[5],\n",
    "            'date_of_birth': groups[6],\n",
    "            'check_digit_2': groups[7],\n",
    "            'sex': groups[8],\n",
    "            'date_of_expiry': groups[9],\n",
    "            'check_digit_3': groups[10],\n",
    "            'optional_data': groups[11],\n",
    "            'overall_check_digit': groups[12]\n",
    "        }\n",
    "        \n",
    "        return result\n",
    "    else:\n",
    "        # No match was found\n",
    "        return None\n",
    "\n",
    "# Example usage\n",
    "mrz_string = 'P<GBRSMITH<<JOHN<<<<<<<<<<<<<<<<<<<<<<<<<<<<<\\n1234567890GBR9001018M2301018<<<<<<<<<<<<<<08'\n",
    "result = parse_td3_mrz(mrz_string)\n",
    "print(result)\n"
   ]
  },
  {
   "cell_type": "code",
   "execution_count": 34,
   "metadata": {},
   "outputs": [
    {
     "ename": "LengthError",
     "evalue": "('String was not recognized as a valid TD1. It should have 92 characters', '88')",
     "output_type": "error",
     "traceback": [
      "\u001b[1;31m---------------------------------------------------------------------------\u001b[0m",
      "\u001b[1;31mLengthError\u001b[0m                               Traceback (most recent call last)",
      "Cell \u001b[1;32mIn[34], line 5\u001b[0m\n\u001b[0;32m      3\u001b[0m \u001b[39mfrom\u001b[39;00m \u001b[39mmrz\u001b[39;00m\u001b[39m.\u001b[39;00m\u001b[39mchecker\u001b[39;00m\u001b[39m.\u001b[39;00m\u001b[39mtd2\u001b[39;00m \u001b[39mimport\u001b[39;00m TD2CodeChecker\n\u001b[0;32m      4\u001b[0m mrz_string \u001b[39m=\u001b[39m \u001b[39m\"\u001b[39m\u001b[39mP<UKRTKACHENKO<<MARIANA<<<<<<<<<<<<<<<<<<<<<XX000000<0UKR9108242F23092571234567890<<<<70\u001b[39m\u001b[39m\"\u001b[39m\n\u001b[1;32m----> 5\u001b[0m \u001b[39mif\u001b[39;00m \u001b[39mbool\u001b[39m(TD1CodeChecker(mrz_string)):\n\u001b[0;32m      6\u001b[0m     fields \u001b[39m=\u001b[39m td1_check\u001b[39m.\u001b[39mfields()\n\u001b[0;32m      7\u001b[0m \u001b[39melif\u001b[39;00m \u001b[39mbool\u001b[39m(TD2CodeChecker(mrz_string)):\n",
      "File \u001b[1;32mc:\\Users\\iyedn\\AppData\\Local\\Programs\\Python\\Python311\\Lib\\site-packages\\mrz\\checker\\td1.py:76\u001b[0m, in \u001b[0;36mTD1CodeChecker.__init__\u001b[1;34m(self, mrz_code, check_expiry, compute_warnings, precheck)\u001b[0m\n\u001b[0;32m     75\u001b[0m \u001b[39mdef\u001b[39;00m \u001b[39m__init__\u001b[39m(\u001b[39mself\u001b[39m, mrz_code: \u001b[39mstr\u001b[39m, check_expiry\u001b[39m=\u001b[39m\u001b[39mFalse\u001b[39;00m, compute_warnings\u001b[39m=\u001b[39m\u001b[39mFalse\u001b[39;00m, precheck\u001b[39m=\u001b[39m\u001b[39mTrue\u001b[39;00m):\n\u001b[1;32m---> 76\u001b[0m     precheck \u001b[39mand\u001b[39;00m check\u001b[39m.\u001b[39;49mprecheck(\u001b[39m\"\u001b[39;49m\u001b[39mTD1\u001b[39;49m\u001b[39m\"\u001b[39;49m, mrz_code, \u001b[39m92\u001b[39;49m)\n\u001b[0;32m     77\u001b[0m     lines \u001b[39m=\u001b[39m mrz_code\u001b[39m.\u001b[39msplitlines()\n\u001b[0;32m     78\u001b[0m     \u001b[39mself\u001b[39m\u001b[39m.\u001b[39m_document_type \u001b[39m=\u001b[39m lines[\u001b[39m0\u001b[39m][\u001b[39m0\u001b[39m: \u001b[39m2\u001b[39m]\n",
      "File \u001b[1;32mc:\\Users\\iyedn\\AppData\\Local\\Programs\\Python\\Python311\\Lib\\site-packages\\mrz\\base\\string_checkers.py:101\u001b[0m, in \u001b[0;36mprecheck\u001b[1;34m(document_description, string, length)\u001b[0m\n\u001b[0;32m     99\u001b[0m s \u001b[39m=\u001b[39m string\u001b[39m.\u001b[39mreplace(\u001b[39m\"\u001b[39m\u001b[39m\\n\u001b[39;00m\u001b[39m\"\u001b[39m, \u001b[39m\"\u001b[39m\u001b[39m\"\u001b[39m)\n\u001b[0;32m    100\u001b[0m \u001b[39mif\u001b[39;00m check_string(_check_upper(string)) \u001b[39mand\u001b[39;00m \u001b[39mlen\u001b[39m(string) \u001b[39m!=\u001b[39m length:\n\u001b[1;32m--> 101\u001b[0m     \u001b[39mraise\u001b[39;00m LengthError(cause\u001b[39m=\u001b[39m\u001b[39mlen\u001b[39m(s), document\u001b[39m=\u001b[39mdocument_description, length\u001b[39m=\u001b[39mlength)\n\u001b[0;32m    102\u001b[0m \u001b[39mif\u001b[39;00m \u001b[39mnot\u001b[39;00m is_printable(string, \u001b[39m\"\u001b[39m\u001b[39m\\n\u001b[39;00m\u001b[39m\"\u001b[39m):\n\u001b[0;32m    103\u001b[0m     \u001b[39mraise\u001b[39;00m FieldError(\u001b[39m\"\u001b[39m\u001b[39m%s\u001b[39;00m\u001b[39m contains invalid characters\u001b[39m\u001b[39m\"\u001b[39m \u001b[39m%\u001b[39m document_description, s)\n",
      "\u001b[1;31mLengthError\u001b[0m: ('String was not recognized as a valid TD1. It should have 92 characters', '88')"
     ]
    }
   ],
   "source": [
    "from mrz.checker.td1 import TD1CodeChecker, get_country\n",
    "from mrz.checker.td3 import TD3CodeChecker\n",
    "from mrz.checker.td2 import TD2CodeChecker\n",
    "mrz_string = \"P<UKRTKACHENKO<<MARIANA<<<<<<<<<<<<<<<<<<<<<XX000000<0UKR9108242F23092571234567890<<<<70\"\n",
    "if bool(TD1CodeChecker(mrz_string)):\n",
    "    fields = td1_check.fields()\n",
    "elif bool(TD2CodeChecker(mrz_string)):\n",
    "    fields = td2_check.fields()\n",
    "elif bool(TD3CodeChecker(mrz_string)):\n",
    "    fields = td3_check.fields()\n",
    "\n",
    "print(fields.sex, fields.surname)\n",
    "print(get_country(fields.country))"
   ]
  },
  {
   "cell_type": "code",
   "execution_count": 1,
   "metadata": {},
   "outputs": [],
   "source": [
    "from imagetomrz import ExtractData\n",
    "from parsemrz import parse"
   ]
  },
  {
   "cell_type": "code",
   "execution_count": 2,
   "metadata": {},
   "outputs": [],
   "source": [
    "list = ExtractData(\"C:\\\\Users\\\\iyedn\\\\OneDrive\\\\Desktop\\\\stage\\\\mrz-detection-master\\\\img\\\\210316052514-iceland-gender-neutral-passport.jpg\")\n",
    "l = parse(list)"
   ]
  },
  {
   "cell_type": "code",
   "execution_count": 7,
   "metadata": {},
   "outputs": [
    {
     "name": "stdout",
     "output_type": "stream",
     "text": [
      "121212\n"
     ]
    }
   ],
   "source": [
    "print(l[6])"
   ]
  },
  {
   "cell_type": "code",
   "execution_count": null,
   "metadata": {},
   "outputs": [],
   "source": []
  }
 ],
 "metadata": {
  "kernelspec": {
   "display_name": "Python 3",
   "language": "python",
   "name": "python3"
  },
  "language_info": {
   "codemirror_mode": {
    "name": "ipython",
    "version": 3
   },
   "file_extension": ".py",
   "mimetype": "text/x-python",
   "name": "python",
   "nbconvert_exporter": "python",
   "pygments_lexer": "ipython3",
   "version": "3.11.4"
  },
  "orig_nbformat": 4
 },
 "nbformat": 4,
 "nbformat_minor": 2
}
