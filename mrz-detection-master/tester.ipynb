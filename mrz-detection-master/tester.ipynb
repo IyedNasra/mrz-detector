{
 "cells": [
  {
   "cell_type": "code",
   "execution_count": 4,
   "metadata": {},
   "outputs": [],
   "source": [
    "from parsemrz import parse\n",
    "from imagetomrz import ExtractData"
   ]
  },
  {
   "cell_type": "code",
   "execution_count": 5,
   "metadata": {},
   "outputs": [],
   "source": [
    "ExtractData('C:\\\\Users\\\\iyedn\\\\OneDrive\\\\Desktop\\\\stage\\\\mrz-detection-master\\\\img\\\\210316052514-iceland-gender-neutral-passport.jpg')\n",
    "data = ExtractData('C:\\\\Users\\\\iyedn\\\\OneDrive\\\\Desktop\\\\stage\\\\mrz-detection-master\\\\img\\\\210316052514-iceland-gender-neutral-passport.jpg')"
   ]
  },
  {
   "cell_type": "code",
   "execution_count": 6,
   "metadata": {},
   "outputs": [
    {
     "name": "stdout",
     "output_type": "stream",
     "text": [
      "THURIDUR OESP\n"
     ]
    },
    {
     "data": {
      "text/plain": [
       "['THURIDUR OESP',\n",
       " 'AEVARSDOTTIR',\n",
       " 'P',\n",
       " 'A',\n",
       " 'ISL',\n",
       " 'A3536444',\n",
       " 'ISL',\n",
       " '121212',\n",
       " 'unspecified',\n",
       " '310310',\n",
       " '121212<1239',\n",
       " '7',\n",
       " '3',\n",
       " '8',\n",
       " '6',\n",
       " '8']"
      ]
     },
     "execution_count": 6,
     "metadata": {},
     "output_type": "execute_result"
    }
   ],
   "source": [
    "parse(data)"
   ]
  },
  {
   "cell_type": "code",
   "execution_count": null,
   "metadata": {},
   "outputs": [],
   "source": []
  }
 ],
 "metadata": {
  "kernelspec": {
   "display_name": "Python 3",
   "language": "python",
   "name": "python3"
  },
  "language_info": {
   "codemirror_mode": {
    "name": "ipython",
    "version": 3
   },
   "file_extension": ".py",
   "mimetype": "text/x-python",
   "name": "python",
   "nbconvert_exporter": "python",
   "pygments_lexer": "ipython3",
   "version": "3.11.4"
  },
  "orig_nbformat": 4
 },
 "nbformat": 4,
 "nbformat_minor": 2
}
