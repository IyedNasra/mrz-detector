{
 "cells": [
  {
   "cell_type": "code",
   "execution_count": 2,
   "metadata": {},
   "outputs": [
    {
     "name": "stdout",
     "output_type": "stream",
     "text": [
      "['THURIDUR OESP', 'AEVARSDOTTIR', 'P', 'ISL', 'A3536444', 'ISL', '121212', 'unspecified', '310310', '121212<1239', '7', '3', '8', '6', '8']\n"
     ]
    }
   ],
   "source": [
    "from imagetomrz import ExtractData\n",
    "from parsemrz import parse\n",
    "list = ExtractData(\"C:\\\\Users\\\\iyedn\\\\OneDrive\\\\Desktop\\\\stage\\\\mrz-detection-master\\\\img\\\\210316052514-iceland-gender-neutral-passport.jpg\")\n",
    "l = parse(list)\n",
    "print(l)"
   ]
  },
  {
   "cell_type": "code",
   "execution_count": null,
   "metadata": {},
   "outputs": [],
   "source": []
  }
 ],
 "metadata": {
  "kernelspec": {
   "display_name": "Python 3",
   "language": "python",
   "name": "python3"
  },
  "language_info": {
   "codemirror_mode": {
    "name": "ipython",
    "version": 3
   },
   "file_extension": ".py",
   "mimetype": "text/x-python",
   "name": "python",
   "nbconvert_exporter": "python",
   "pygments_lexer": "ipython3",
   "version": "3.11.4"
  },
  "orig_nbformat": 4
 },
 "nbformat": 4,
 "nbformat_minor": 2
}
