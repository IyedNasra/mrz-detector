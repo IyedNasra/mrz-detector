{
 "cells": [
  {
   "cell_type": "code",
   "execution_count": 2,
   "metadata": {},
   "outputs": [],
   "source": [
    "import os\n",
    "import re\n",
    "import subprocess\n",
    "from datetime import datetime\n",
    "from pycountry import countries"
   ]
  },
  {
   "cell_type": "code",
   "execution_count": 39,
   "metadata": {},
   "outputs": [],
   "source": [
    "def parse(cleaned_list: list):\n",
    "    if (len(cleaned_list[0]) == 44) or (len(cleaned_list[0]) == 36):\n",
    "        # Extracting the first letter of the first element\n",
    "        Passport_type = cleaned_list[0][0]  # Accessing the second character\n",
    "        if cleaned_list[0][1] == '<':\n",
    "            Passport_subtype = None\n",
    "        else:\n",
    "            # Extracting the second letter of the first element\n",
    "            Passport_subtype = cleaned_list[0][1]  # Accessing the second character\n",
    "        Issuing_country = cleaned_list[0][2:5]\n",
    "        remains = cleaned_list[0][5:] #Comntains name and surname for further processing\n",
    "        Surname = remains.split('<<', 1)[0].replace('<', ' ')\n",
    "        Name = remains.split('<<', 1)[1].strip('<').replace('<', ' ')\n",
    "        Passport_number = cleaned_list[1][0:9]\n",
    "        Check_digit1 = cleaned_list[1][9]\n",
    "        Nationality = cleaned_list[1][10:13]\n",
    "        Birth_Date = cleaned_list[1][13:19]\n",
    "        Check_digit2 = cleaned_list[1][19]\n",
    "        if cleaned_list[1][20] == '<':\n",
    "            Gender = 'unspecified'\n",
    "        else:\n",
    "            Gender = cleaned_list[1][20]\n",
    "        Expiration_date = cleaned_list[1][21:27]\n",
    "        Check_digit3 = cleaned_list[1][27]\n",
    "        if len(cleaned_list[0]) == 44:\n",
    "            Personal_number = cleaned_list[1][28:42].strip('<')\n",
    "            Check_digit4 = cleaned_list[1][42]\n",
    "            Check_digit5 = cleaned_list[1][43]\n",
    "        elif len(cleaned_list[0]) == 36:\n",
    "            Personal_number = cleaned_list[1][28:35].strip('<')\n",
    "            Check_digit4 = cleaned_list[1][35]\n",
    "    details = [Name, Surname, Passport_type, Passport_subtype, Issuing_country, Passport_number, Nationality, Birth_Date, Gender, Expiration_date, Personal_number, Check_digit1, Check_digit2, Check_digit3, Check_digit4, Check_digit5]\n",
    "    details = [element.strip(\"<\") for element in details]\n",
    "    return details"
   ]
  },
  {
   "cell_type": "code",
   "execution_count": 47,
   "metadata": {},
   "outputs": [
    {
     "data": {
      "text/plain": [
       "['PMK0RLEE<<SUYE0N<<<<<<<<<<<<<<<<<<<<<<<<<<<<',\n",
       " 'M708B90985KOR8507022F24041522154710V17627B84']"
      ]
     },
     "execution_count": 47,
     "metadata": {},
     "output_type": "execute_result"
    }
   ],
   "source": [
    "\n",
    "def ExtractData(filepath):\n",
    "    base_workdir = os.getcwd()\n",
    "    try:\n",
    "        # Run the Node.js command with 'cwd' set to the target directory\n",
    "        node_command = [\"node\", \"run/getMrz.js\", \"--file\", filepath]\n",
    "        result = subprocess.run(node_command, cwd=base_workdir, check=True)\n",
    "        # Print any error output if present\n",
    "        if result.stderr:\n",
    "            logging.exception(\"Error output:\")\n",
    "            logging.exception(result.stderr)\n",
    "    except subprocess.CalledProcessError as e:\n",
    "        logging.exception(\"Error running the command:\", e)\n",
    "    \n",
    "    # Get the file name from the file_location variable\n",
    "    file_name = os.path.basename(filepath)\n",
    "\n",
    "    # Split the file name and extension\n",
    "    file_name, _ = os.path.splitext(file_name)\n",
    "\n",
    "    # Change the file extension to .png\n",
    "    file_name = file_name + \".png\"\n",
    "\n",
    "    # Access the /out/crop subdirectory\n",
    "    new_dir = os.path.join(os.path.dirname(filepath), \"out\", \"crop\")\n",
    "\n",
    "    # Join the new directory with the new file name\n",
    "    filepath = os.path.join(new_dir, file_name)\n",
    "    \n",
    "    try:\n",
    "        # Run the Node.js command with 'cwd' set to the target directory\n",
    "        node_command = [\"node\", \"run/readMrz.js\", \"--file\", filepath]\n",
    "        result = subprocess.run(node_command, cwd=base_workdir, capture_output=True, text=True)\n",
    "    except subprocess.CalledProcessError as e:\n",
    "        print(\"Error running the command:\", e)\n",
    "\n",
    "    result_stdout = result.stdout # Updating variable name prevents potential problems with \".\"\n",
    "    \n",
    "    # Find the index of the first occurrence of 'mrz:'\n",
    "    start_mrz_index = result_stdout.find('mrz:')\n",
    "\n",
    "    if start_mrz_index != -1:\n",
    "        # Find the index of the first '[' after 'mrz:'\n",
    "        start_bracket_index = result_stdout.find('[', start_mrz_index)\n",
    "\n",
    "        # Find the index of the first ']' after 'mrz:'\n",
    "        end_bracket_index = result_stdout.find(']', start_mrz_index)\n",
    "\n",
    "        if start_bracket_index != -1 and end_bracket_index != -1:\n",
    "            # Extract the substring between the first '[' and the first ']' after 'mrz:'\n",
    "            result = result_stdout[start_bracket_index + 1: end_bracket_index]\n",
    "\n",
    "        else:\n",
    "            print(\"No matching brackets found after 'mrz:'\")\n",
    "    else:\n",
    "        print(\"No 'mrz:' found in the text.\")\n",
    "    \n",
    "    # Use regular expressions to remove the escape sequences for colors and leading/trailing whitespaces\n",
    "    cleaned_result = re.sub(r'\\x1b\\[\\d+m', '', result).strip()\n",
    "\n",
    "    # Split the cleaned result into a list using splitlines() and then split by comma\n",
    "    result_list = cleaned_result.split(',')\n",
    "\n",
    "    # Clean up the elements by removing single quotes and extra spaces, and create a new list\n",
    "    cleaned_list = [element.strip().strip(\"'\") for element in result_list]\n",
    "    return cleaned_list\n",
    "\n",
    "#Testing\n",
    "tester = ExtractData('C:\\\\Users\\\\iyedn\\OneDrive\\\\Desktop\\\\stage\\\\mrz-detection-master\\\\img\\\\Specimen_Personal_Information_Page_South_Korean_Passport.jpg')\n",
    "tester"
   ]
  },
  {
   "cell_type": "code",
   "execution_count": 48,
   "metadata": {},
   "outputs": [
    {
     "data": {
      "text/plain": [
       "['SUYE0N',\n",
       " 'LEE',\n",
       " 'P',\n",
       " 'M',\n",
       " 'K0R',\n",
       " 'M708B9098',\n",
       " 'KOR',\n",
       " '850702',\n",
       " 'F',\n",
       " '240415',\n",
       " '2154710V17627B',\n",
       " '5',\n",
       " '2',\n",
       " '2',\n",
       " '8',\n",
       " '4']"
      ]
     },
     "execution_count": 48,
     "metadata": {},
     "output_type": "execute_result"
    }
   ],
   "source": [
    "parse(tester)"
   ]
  },
  {
   "cell_type": "code",
   "execution_count": null,
   "metadata": {},
   "outputs": [],
   "source": []
  }
 ],
 "metadata": {
  "kernelspec": {
   "display_name": "Python 3",
   "language": "python",
   "name": "python3"
  },
  "language_info": {
   "codemirror_mode": {
    "name": "ipython",
    "version": 3
   },
   "file_extension": ".py",
   "mimetype": "text/x-python",
   "name": "python",
   "nbconvert_exporter": "python",
   "pygments_lexer": "ipython3",
   "version": "3.11.4"
  },
  "orig_nbformat": 4
 },
 "nbformat": 4,
 "nbformat_minor": 2
}
