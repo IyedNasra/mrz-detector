{
 "cells": [
  {
   "cell_type": "code",
   "execution_count": 2,
   "metadata": {},
   "outputs": [
    {
     "name": "stdout",
     "output_type": "stream",
     "text": [
      "Collecting tesseract-ocr\n",
      "  Using cached tesseract-ocr-0.0.1.tar.gz (33 kB)\n",
      "  Installing build dependencies: started\n",
      "  Installing build dependencies: finished with status 'done'\n",
      "  Getting requirements to build wheel: started\n",
      "  Getting requirements to build wheel: finished with status 'done'\n",
      "  Preparing metadata (pyproject.toml): started\n",
      "  Preparing metadata (pyproject.toml): finished with status 'done'\n",
      "Collecting cython (from tesseract-ocr)\n",
      "  Obtaining dependency information for cython from https://files.pythonhosted.org/packages/7d/61/bf165c17a1296fd7db78e18fd8cbb157ab04060ec58d34ff319424af3e2d/Cython-3.0.0-cp311-cp311-win_amd64.whl.metadata\n",
      "  Using cached Cython-3.0.0-cp311-cp311-win_amd64.whl.metadata (3.2 kB)\n",
      "Using cached Cython-3.0.0-cp311-cp311-win_amd64.whl (2.8 MB)\n",
      "Building wheels for collected packages: tesseract-ocr\n",
      "  Building wheel for tesseract-ocr (pyproject.toml): started\n",
      "  Building wheel for tesseract-ocr (pyproject.toml): finished with status 'error'\n",
      "Failed to build tesseract-ocr\n"
     ]
    },
    {
     "name": "stderr",
     "output_type": "stream",
     "text": [
      "  error: subprocess-exited-with-error\n",
      "  \n",
      "  × Building wheel for tesseract-ocr (pyproject.toml) did not run successfully.\n",
      "  │ exit code: 1\n",
      "  ╰─> [23 lines of output]\n",
      "      C:\\Users\\iyedn\\AppData\\Local\\Temp\\pip-build-env-mlvn64oj\\overlay\\Lib\\site-packages\\setuptools\\dist.py:745: SetuptoolsDeprecationWarning: Invalid dash-separated options\n",
      "      !!\n",
      "      \n",
      "              ********************************************************************************\n",
      "              Usage of dash-separated 'description-file' will not be supported in future\n",
      "              versions. Please use the underscore name 'description_file' instead.\n",
      "      \n",
      "              By 2023-Sep-26, you need to update your project and remove deprecated calls\n",
      "              or your builds will no longer be supported.\n",
      "      \n",
      "              See https://setuptools.pypa.io/en/latest/userguide/declarative_config.html for details.\n",
      "              ********************************************************************************\n",
      "      \n",
      "      !!\n",
      "        opt = self.warn_dash_deprecation(opt, section)\n",
      "      running bdist_wheel\n",
      "      running build\n",
      "      running build_py\n",
      "      file tesseract_ocr.py (for module tesseract_ocr) not found\n",
      "      file tesseract_ocr.py (for module tesseract_ocr) not found\n",
      "      running build_ext\n",
      "      building 'tesseract_ocr' extension\n",
      "      error: Microsoft Visual C++ 14.0 or greater is required. Get it with \"Microsoft C++ Build Tools\": https://visualstudio.microsoft.com/visual-cpp-build-tools/\n",
      "      [end of output]\n",
      "  \n",
      "  note: This error originates from a subprocess, and is likely not a problem with pip.\n",
      "  ERROR: Failed building wheel for tesseract-ocr\n",
      "ERROR: Could not build wheels for tesseract-ocr, which is required to install pyproject.toml-based projects\n"
     ]
    },
    {
     "name": "stdout",
     "output_type": "stream",
     "text": [
      "Requirement already satisfied: pytesseract in c:\\users\\iyedn\\appdata\\local\\programs\\python\\python311\\lib\\site-packages (0.3.10)\n",
      "Requirement already satisfied: packaging>=21.3 in c:\\users\\iyedn\\appdata\\roaming\\python\\python311\\site-packages (from pytesseract) (23.1)\n",
      "Requirement already satisfied: Pillow>=8.0.0 in c:\\users\\iyedn\\appdata\\local\\programs\\python\\python311\\lib\\site-packages (from pytesseract) (10.0.0)\n",
      "Requirement already satisfied: nodejs in c:\\users\\iyedn\\appdata\\local\\programs\\python\\python311\\lib\\site-packages (0.1.1)\n",
      "Requirement already satisfied: optional-django==0.1.0 in c:\\users\\iyedn\\appdata\\local\\programs\\python\\python311\\lib\\site-packages (from nodejs) (0.1.0)\n",
      "Requirement already satisfied: pycountry in c:\\users\\iyedn\\appdata\\local\\programs\\python\\python311\\lib\\site-packages (22.3.5)\n",
      "Requirement already satisfied: setuptools in c:\\users\\iyedn\\appdata\\local\\programs\\python\\python311\\lib\\site-packages (from pycountry) (65.5.0)\n"
     ]
    }
   ],
   "source": [
    "!pip install tesseract-ocr\n",
    "!pip install pytesseract\n",
    "!pip install nodejs\n",
    "!pip install pycountry"
   ]
  },
  {
   "cell_type": "code",
   "execution_count": null,
   "metadata": {},
   "outputs": [],
   "source": []
  }
 ],
 "metadata": {
  "kernelspec": {
   "display_name": "Python 3",
   "language": "python",
   "name": "python3"
  },
  "language_info": {
   "codemirror_mode": {
    "name": "ipython",
    "version": 3
   },
   "file_extension": ".py",
   "mimetype": "text/x-python",
   "name": "python",
   "nbconvert_exporter": "python",
   "pygments_lexer": "ipython3",
   "version": "3.11.4"
  },
  "orig_nbformat": 4
 },
 "nbformat": 4,
 "nbformat_minor": 2
}
